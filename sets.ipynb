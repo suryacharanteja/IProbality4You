{
 "cells": [
  {
   "cell_type": "markdown",
   "id": "63bc9af1",
   "metadata": {},
   "source": [
    "# specifying set"
   ]
  },
  {
   "cell_type": "markdown",
   "id": "3dbc9781",
   "metadata": {},
   "source": [
    "### 1. explicit listing"
   ]
  },
  {
   "cell_type": "code",
   "execution_count": 1,
   "id": "36cbfa25",
   "metadata": {},
   "outputs": [],
   "source": [
    "fruits_set = {'Apple', 'Banana', 'Kiwi', 'Musk melon', 'Water melon', 'Avacado', 'Orange', 'Grapes', 'Pineapple'}"
   ]
  },
  {
   "cell_type": "code",
   "execution_count": 2,
   "id": "e6dc8b2b",
   "metadata": {},
   "outputs": [
    {
     "data": {
      "text/plain": [
       "{'Apple',\n",
       " 'Avacado',\n",
       " 'Banana',\n",
       " 'Grapes',\n",
       " 'Kiwi',\n",
       " 'Musk melon',\n",
       " 'Orange',\n",
       " 'Pineapple',\n",
       " 'Water melon'}"
      ]
     },
     "execution_count": 2,
     "metadata": {},
     "output_type": "execute_result"
    }
   ],
   "source": [
    "fruits_set"
   ]
  },
  {
   "cell_type": "code",
   "execution_count": 3,
   "id": "86fe4aac",
   "metadata": {},
   "outputs": [
    {
     "data": {
      "text/plain": [
       "set"
      ]
     },
     "execution_count": 3,
     "metadata": {},
     "output_type": "execute_result"
    }
   ],
   "source": [
    "type(fruits_set)"
   ]
  },
  {
   "cell_type": "code",
   "execution_count": 4,
   "id": "939a0b08",
   "metadata": {},
   "outputs": [],
   "source": [
    "even_set_ten = {2, 4, 6, 8, 10}"
   ]
  },
  {
   "cell_type": "code",
   "execution_count": 5,
   "id": "ff003ea2",
   "metadata": {},
   "outputs": [
    {
     "data": {
      "text/plain": [
       "{2, 4, 6, 8, 10}"
      ]
     },
     "execution_count": 5,
     "metadata": {},
     "output_type": "execute_result"
    }
   ],
   "source": [
    "even_set_ten"
   ]
  },
  {
   "cell_type": "markdown",
   "id": "b3ee7e83",
   "metadata": {},
   "source": [
    "### Builder notation"
   ]
  },
  {
   "cell_type": "code",
   "execution_count": null,
   "id": "a35b4dab",
   "metadata": {},
   "outputs": [],
   "source": [
    "set = {x | 2 < x <= 20 x belongs to N}"
   ]
  },
  {
   "cell_type": "markdown",
   "id": "a175e018",
   "metadata": {},
   "source": [
    "# Examples:"
   ]
  },
  {
   "cell_type": "code",
   "execution_count": null,
   "id": "7fc0be23",
   "metadata": {},
   "outputs": [],
   "source": [
    "probability\n"
   ]
  },
  {
   "cell_type": "code",
   "execution_count": 6,
   "id": "29c5eb3c",
   "metadata": {},
   "outputs": [],
   "source": [
    "vow_set = {'a', 'o', 'i'}"
   ]
  },
  {
   "cell_type": "code",
   "execution_count": 7,
   "id": "8b089d5f",
   "metadata": {},
   "outputs": [
    {
     "data": {
      "text/plain": [
       "{'a', 'i', 'o'}"
      ]
     },
     "execution_count": 7,
     "metadata": {},
     "output_type": "execute_result"
    }
   ],
   "source": [
    "vow_set"
   ]
  },
  {
   "cell_type": "markdown",
   "id": "1357694f",
   "metadata": {},
   "source": [
    "# Applications of sets in ML modellling"
   ]
  },
  {
   "cell_type": "markdown",
   "id": "793d64a7",
   "metadata": {},
   "source": [
    "### 1. Feature sets"
   ]
  },
  {
   "cell_type": "code",
   "execution_count": 8,
   "id": "cc90ad82",
   "metadata": {},
   "outputs": [],
   "source": [
    "features = {('age', 30), ('gender', 'male'), ('income', 50000), ('education', 'Masters')}"
   ]
  },
  {
   "cell_type": "code",
   "execution_count": 9,
   "id": "e5c25bb7",
   "metadata": {},
   "outputs": [
    {
     "data": {
      "text/plain": [
       "{('age', 30), ('education', 'Masters'), ('gender', 'male'), ('income', 50000)}"
      ]
     },
     "execution_count": 9,
     "metadata": {},
     "output_type": "execute_result"
    }
   ],
   "source": [
    "features"
   ]
  },
  {
   "cell_type": "markdown",
   "id": "67456962",
   "metadata": {},
   "source": [
    "### 2. Training sets"
   ]
  },
  {
   "cell_type": "code",
   "execution_count": 10,
   "id": "ddc9c7f3",
   "metadata": {},
   "outputs": [],
   "source": [
    "training_set = [({'age': 25, 'income': 45000}, 'low'), ({'age': 35, 'income': 60000}, 'high'), ({'age': 30, 'income': 50000}, 'medium')]"
   ]
  },
  {
   "cell_type": "code",
   "execution_count": 11,
   "id": "a434c67c",
   "metadata": {},
   "outputs": [
    {
     "data": {
      "text/plain": [
       "[({'age': 25, 'income': 45000}, 'low'),\n",
       " ({'age': 35, 'income': 60000}, 'high'),\n",
       " ({'age': 30, 'income': 50000}, 'medium')]"
      ]
     },
     "execution_count": 11,
     "metadata": {},
     "output_type": "execute_result"
    }
   ],
   "source": [
    "training_set"
   ]
  },
  {
   "cell_type": "markdown",
   "id": "2a0398cf",
   "metadata": {},
   "source": [
    "### 3. Test sets"
   ]
  },
  {
   "cell_type": "code",
   "execution_count": 13,
   "id": "5d81246b",
   "metadata": {},
   "outputs": [],
   "source": [
    "test_set = [({'age': 25, 'income': 45000}, 'low'), ({'age': 35, 'income': 60000}, 'high'), ({'age': 30, 'income': 50000}, 'medium')]"
   ]
  },
  {
   "cell_type": "code",
   "execution_count": 14,
   "id": "b86e2484",
   "metadata": {},
   "outputs": [
    {
     "data": {
      "text/plain": [
       "[({'age': 25, 'income': 45000}, 'low'),\n",
       " ({'age': 35, 'income': 60000}, 'high'),\n",
       " ({'age': 30, 'income': 50000}, 'medium')]"
      ]
     },
     "execution_count": 14,
     "metadata": {},
     "output_type": "execute_result"
    }
   ],
   "source": [
    "test_set"
   ]
  },
  {
   "cell_type": "markdown",
   "id": "48f08433",
   "metadata": {},
   "source": [
    "### 4. Cluster sets"
   ]
  },
  {
   "cell_type": "code",
   "execution_count": 17,
   "id": "48e2a2cd",
   "metadata": {},
   "outputs": [],
   "source": [
    "cluster_set = [{(1, 2), (2, 3), (3, 4)}, {(5, 6), (6, 7), (7, 8)}]"
   ]
  },
  {
   "cell_type": "code",
   "execution_count": 18,
   "id": "7707b8a0",
   "metadata": {},
   "outputs": [
    {
     "data": {
      "text/plain": [
       "[{(1, 2), (2, 3), (3, 4)}, {(5, 6), (6, 7), (7, 8)}]"
      ]
     },
     "execution_count": 18,
     "metadata": {},
     "output_type": "execute_result"
    }
   ],
   "source": [
    "cluster_set"
   ]
  },
  {
   "cell_type": "markdown",
   "id": "cf00dd44",
   "metadata": {},
   "source": [
    "### 5. subset selection"
   ]
  },
  {
   "cell_type": "code",
   "execution_count": 19,
   "id": "9f1244c5",
   "metadata": {},
   "outputs": [],
   "source": [
    "all_features = {'age', 'gender', 'income', 'education', 'location'}"
   ]
  },
  {
   "cell_type": "code",
   "execution_count": 20,
   "id": "6ac7c15e",
   "metadata": {},
   "outputs": [
    {
     "data": {
      "text/plain": [
       "{'age', 'education', 'gender', 'income', 'location'}"
      ]
     },
     "execution_count": 20,
     "metadata": {},
     "output_type": "execute_result"
    }
   ],
   "source": [
    "all_features"
   ]
  },
  {
   "cell_type": "code",
   "execution_count": 21,
   "id": "80bd4ce4",
   "metadata": {},
   "outputs": [],
   "source": [
    "selected_features = {'age', 'income', 'education'}"
   ]
  },
  {
   "cell_type": "code",
   "execution_count": 22,
   "id": "634af8e9",
   "metadata": {},
   "outputs": [
    {
     "data": {
      "text/plain": [
       "{'age', 'education', 'income'}"
      ]
     },
     "execution_count": 22,
     "metadata": {},
     "output_type": "execute_result"
    }
   ],
   "source": [
    "selected_features"
   ]
  },
  {
   "cell_type": "markdown",
   "id": "57f21b89",
   "metadata": {},
   "source": [
    "# null set"
   ]
  },
  {
   "cell_type": "code",
   "execution_count": 23,
   "id": "a7f8f8db",
   "metadata": {},
   "outputs": [
    {
     "name": "stdout",
     "output_type": "stream",
     "text": [
      "set()\n"
     ]
    }
   ],
   "source": [
    "empty_set = set()\n",
    "print(empty_set)"
   ]
  },
  {
   "cell_type": "code",
   "execution_count": 24,
   "id": "cbea78b2",
   "metadata": {},
   "outputs": [
    {
     "name": "stdout",
     "output_type": "stream",
     "text": [
      "{}\n"
     ]
    }
   ],
   "source": [
    "null_set = {}\n",
    "print(null_set)"
   ]
  },
  {
   "cell_type": "markdown",
   "id": "d3b4e805",
   "metadata": {},
   "source": [
    "# Finite"
   ]
  },
  {
   "cell_type": "code",
   "execution_count": 25,
   "id": "890b270b",
   "metadata": {},
   "outputs": [
    {
     "name": "stdout",
     "output_type": "stream",
     "text": [
      "{1, 2, 3, 4, 5}\n"
     ]
    }
   ],
   "source": [
    "finite_set = {1, 2, 3, 4, 5}\n",
    "print(finite_set)"
   ]
  },
  {
   "cell_type": "code",
   "execution_count": 27,
   "id": "38066e02",
   "metadata": {},
   "outputs": [
    {
     "name": "stdout",
     "output_type": "stream",
     "text": [
      "{2, 4, 6, 8, 10}\n"
     ]
    }
   ],
   "source": [
    "fin_set = set([2, 4, 6, 8, 10])\n",
    "print(fin_set)"
   ]
  },
  {
   "cell_type": "markdown",
   "id": "086c4068",
   "metadata": {},
   "source": [
    "# Infinite set"
   ]
  },
  {
   "cell_type": "code",
   "execution_count": 33,
   "id": "616c511e",
   "metadata": {},
   "outputs": [
    {
     "name": "stdout",
     "output_type": "stream",
     "text": [
      "1\n",
      "3\n",
      "5\n",
      "7\n",
      "9\n",
      "11\n",
      "13\n",
      "15\n",
      "17\n"
     ]
    }
   ],
   "source": [
    "import itertools\n",
    "\n",
    "infinite_set = itertools.count(start=1, step=2)\n",
    "\n",
    "print(next(infinite_set))\n",
    "print(next(infinite_set))\n",
    "print(next(infinite_set))\n",
    "print(next(infinite_set))\n",
    "print(next(infinite_set))\n",
    "print(next(infinite_set))\n",
    "print(next(infinite_set))\n",
    "print(next(infinite_set))\n",
    "print(next(infinite_set))"
   ]
  },
  {
   "cell_type": "markdown",
   "id": "0eeddfce",
   "metadata": {},
   "source": [
    "# Cardinality of a set"
   ]
  },
  {
   "cell_type": "code",
   "execution_count": 36,
   "id": "6e12ab32",
   "metadata": {},
   "outputs": [
    {
     "name": "stdout",
     "output_type": "stream",
     "text": [
      "cardinality:  5\n"
     ]
    }
   ],
   "source": [
    "finite_set\n",
    "# find the cardinality of the set\n",
    "cardinality = len(finite_set)\n",
    "\n",
    "print(\"cardinality: \", cardinality)"
   ]
  },
  {
   "cell_type": "markdown",
   "id": "42cbbdb0",
   "metadata": {},
   "source": [
    "# Universal set"
   ]
  },
  {
   "cell_type": "code",
   "execution_count": 37,
   "id": "1668b91b",
   "metadata": {},
   "outputs": [
    {
     "name": "stdout",
     "output_type": "stream",
     "text": [
      "{1, 2, 3, 4, 5}\n",
      "{1, 2, 3}\n"
     ]
    }
   ],
   "source": [
    "universal_set = set([1, 2, 3, 4, 5])\n",
    "\n",
    "subset = set([1, 3, 2])\n",
    "\n",
    "print(universal_set)\n",
    "print(subset)"
   ]
  },
  {
   "cell_type": "markdown",
   "id": "b8c4b884",
   "metadata": {},
   "source": [
    "# the membership relation"
   ]
  },
  {
   "cell_type": "code",
   "execution_count": 39,
   "id": "380a9f29",
   "metadata": {},
   "outputs": [
    {
     "data": {
      "text/plain": [
       "{1, 2, 3, 4, 5}"
      ]
     },
     "execution_count": 39,
     "metadata": {},
     "output_type": "execute_result"
    }
   ],
   "source": [
    "finite_set"
   ]
  },
  {
   "cell_type": "code",
   "execution_count": 40,
   "id": "471f7fc2",
   "metadata": {},
   "outputs": [
    {
     "name": "stdout",
     "output_type": "stream",
     "text": [
      "2 is a member of fininte set\n"
     ]
    }
   ],
   "source": [
    "# test if an element belongs to the set\n",
    "# test if an feature belongs to the selected feature list\n",
    "if 2 in finite_set:\n",
    "    print(\"2 is a member of finite set\")\n",
    "\n",
    "\n",
    "if 4 not in fin_set:\n",
    "    print(\"4 is not a member of fin_set\")"
   ]
  },
  {
   "cell_type": "markdown",
   "id": "40e7d618",
   "metadata": {},
   "source": [
    "# Equality of sets"
   ]
  },
  {
   "cell_type": "code",
   "execution_count": 41,
   "id": "a93a3f05",
   "metadata": {},
   "outputs": [
    {
     "data": {
      "text/plain": [
       "{1, 2, 3, 4, 5}"
      ]
     },
     "execution_count": 41,
     "metadata": {},
     "output_type": "execute_result"
    }
   ],
   "source": [
    "finite_set"
   ]
  },
  {
   "cell_type": "code",
   "execution_count": 44,
   "id": "dd3d814e",
   "metadata": {},
   "outputs": [],
   "source": [
    "fin_set =finite_set"
   ]
  },
  {
   "cell_type": "code",
   "execution_count": 45,
   "id": "6cdd986e",
   "metadata": {},
   "outputs": [
    {
     "name": "stdout",
     "output_type": "stream",
     "text": [
      "finite_set and fin_set are equal\n"
     ]
    }
   ],
   "source": [
    "if finite_set == fin_set:\n",
    "    print(\"finite_set and fin_set are equal\")\n",
    "else:\n",
    "    print(\"finite_set and fin_set are not equal\")"
   ]
  },
  {
   "cell_type": "code",
   "execution_count": 50,
   "id": "dc597d63",
   "metadata": {},
   "outputs": [],
   "source": [
    "import matplotlib.pyplot as plt\n",
    "from matplotlib_venn import venn2\n",
    "\n",
    "# define the two sets\n",
    "car_owners = {'Alice', 'Bob', 'Charlie', 'David', 'Eve', 'Frank', 'George'}\n",
    "bike_owners = {'Charlie', 'David', 'Eve', 'Frank', 'Grace', 'Helen'}\n"
   ]
  },
  {
   "cell_type": "markdown",
   "id": "7338e71c",
   "metadata": {},
   "source": [
    "# Venn Diagrams"
   ]
  },
  {
   "cell_type": "markdown",
   "id": "8832bc62",
   "metadata": {},
   "source": [
    "##### Venn diagram is to show the relationship between the two sets\n",
    "    population = 10\n",
    "    60 of them own a car,\n",
    "    40 of them own a bicycle, \n",
    "    and 20 of them own both a car and a bicycle. "
   ]
  },
  {
   "cell_type": "code",
   "execution_count": 53,
   "id": "09b8be57",
   "metadata": {},
   "outputs": [
    {
     "data": {
      "image/png": "[encoded data removed]",
      "text/plain": [
       "<Figure size 640x480 with 1 Axes>"
      ]
     },
     "metadata": {},
     "output_type": "display_data"
    }
   ],
   "source": [
    "import matplotlib.pyplot as plt\n",
    "from matplotlib_venn import venn2\n",
    "\n",
    "# define the two sets\n",
    "car_owners = {'Alice', 'Bob', 'Charlie', 'David', 'Eve', 'Frank', 'George'}\n",
    "bike_owners = {'Charlie', 'David', 'Eve', 'Frank', 'Grace', 'Helen'}\n",
    "\n",
    "\n",
    "# create a Venn diagram for the two sets\n",
    "venn2([car_owners, bike_owners], set_labels=('Car Owners', 'Bike Owners'))\n",
    "\n",
    "# display the Venn diagram\n",
    "plt.show()"
   ]
  },
  {
   "cell_type": "code",
   "execution_count": 55,
   "id": "a6ebbd6e",
   "metadata": {},
   "outputs": [
    {
     "name": "stdout",
     "output_type": "stream",
     "text": [
      "{1, 2, 3, 4, 5}\n"
     ]
    }
   ],
   "source": [
    "A = {1, 2, 3}\n",
    "B = {3, 4, 5}\n",
    "\n",
    "union = A.union(B)\n",
    "print(union)"
   ]
  },
  {
   "cell_type": "code",
   "execution_count": 56,
   "id": "5b03d388",
   "metadata": {},
   "outputs": [
    {
     "data": {
      "image/png": "[encoded data removed]",
      "text/plain": [
       "<Figure size 640x480 with 1 Axes>"
      ]
     },
     "metadata": {},
     "output_type": "display_data"
    }
   ],
   "source": [
    "import matplotlib.pyplot as plt\n",
    "from matplotlib_venn import venn2\n",
    "\n",
    "A = {1, 2, 3}\n",
    "B = {3, 4, 5}\n",
    "\n",
    "venn2([A, B], set_labels=('A', 'B'))\n",
    "\n",
    "plt.title('Union of A and B')\n",
    "plt.show()\n"
   ]
  },
  {
   "cell_type": "code",
   "execution_count": 64,
   "id": "351f2cd3",
   "metadata": {},
   "outputs": [
    {
     "data": {
      "image/png": "[encoded data removed]",
      "text/plain": [
       "<Figure size 640x480 with 1 Axes>"
      ]
     },
     "metadata": {},
     "output_type": "display_data"
    }
   ],
   "source": [
    "import matplotlib.pyplot as plt\n",
    "from matplotlib_venn import venn2_circles, venn2\n",
    "\n",
    "A = {1, 2, 3}\n",
    "B = {3, 4, 5}\n",
    "\n",
    "venn = venn2([A, B], set_labels=('A', 'B'))\n",
    "\n",
    "# Hide the circles for set A and set B\n",
    "venn2_circles([A, B], linestyle='dotted')\n",
    "\n",
    "# Get the patches for the intersection and set their color and alpha\n",
    "venn.get_patch_by_id('10').set_color('#FFC107')\n",
    "venn.get_patch_by_id('10').set_alpha(0.7)\n",
    "\n",
    "plt.title('Intersection of A and B')\n",
    "plt.show()\n"
   ]
  },
  {
   "cell_type": "markdown",
   "id": "06e90742",
   "metadata": {},
   "source": [
    "# Intersection "
   ]
  },
  {
   "cell_type": "code",
   "execution_count": 65,
   "id": "3dd1a869",
   "metadata": {},
   "outputs": [
    {
     "data": {
      "text/plain": [
       "{1, 2, 3}"
      ]
     },
     "execution_count": 65,
     "metadata": {},
     "output_type": "execute_result"
    }
   ],
   "source": [
    "A "
   ]
  },
  {
   "cell_type": "code",
   "execution_count": 66,
   "id": "37c36c5f",
   "metadata": {},
   "outputs": [
    {
     "data": {
      "text/plain": [
       "{3, 4, 5}"
      ]
     },
     "execution_count": 66,
     "metadata": {},
     "output_type": "execute_result"
    }
   ],
   "source": [
    "B"
   ]
  },
  {
   "cell_type": "code",
   "execution_count": 67,
   "id": "0ccd13c0",
   "metadata": {},
   "outputs": [],
   "source": [
    "intersection = A.intersection(B)"
   ]
  },
  {
   "cell_type": "code",
   "execution_count": 68,
   "id": "94db0fd9",
   "metadata": {},
   "outputs": [
    {
     "data": {
      "text/plain": [
       "{3}"
      ]
     },
     "execution_count": 68,
     "metadata": {},
     "output_type": "execute_result"
    }
   ],
   "source": [
    "intersection"
   ]
  },
  {
   "cell_type": "code",
   "execution_count": 69,
   "id": "2a1782b5",
   "metadata": {},
   "outputs": [
    {
     "data": {
      "image/png": "[encoded data removed]",
      "text/plain": [
       "<Figure size 640x480 with 1 Axes>"
      ]
     },
     "metadata": {},
     "output_type": "display_data"
    }
   ],
   "source": [
    "import matplotlib.pyplot as plt\n",
    "from matplotlib_venn import venn2_circles, venn2\n",
    "\n",
    "A = {1, 2, 3}\n",
    "B = {3, 4, 5}\n",
    "\n",
    "venn = venn2([A, B], set_labels=('A', 'B'))\n",
    "\n",
    "\n",
    "# Hide the circles for set A and set B\n",
    "venn2_circles([A, B], linestyle='dotted')\n",
    "\n",
    "# Get the patches for the intersection and set their color and alpha\n",
    "venn.get_patch_by_id('10').set_color('#FFC107')\n",
    "venn.get_patch_by_id('10').set_alpha(0.7)\n",
    "\n",
    "plt.title('Intersection of A and B')\n",
    "plt.show()\n"
   ]
  },
  {
   "cell_type": "code",
   "execution_count": 76,
   "id": "1322e0eb",
   "metadata": {},
   "outputs": [
    {
     "data": {
      "image/png": "[encoded data removed]",
      "text/plain": [
       "<Figure size 640x480 with 1 Axes>"
      ]
     },
     "metadata": {},
     "output_type": "display_data"
    }
   ],
   "source": [
    "import matplotlib.pyplot as plt\n",
    "from matplotlib_venn import venn2\n",
    "\n",
    "A = set(['Alice', 'Bob', 'Charlie', 'David', 'Emily', 'Frank'])\n",
    "B = set(['Alice', 'Charlie', 'Emily'])\n",
    "\n",
    "venn = venn2([A, B], set_labels=('All Employees', 'Sales Department'))\n",
    "\n",
    "# Shade the region for set B to indicate that it is a proper subset of set A\n",
    "venn.get_patch_by_id('10').set_alpha(0.7)\n",
    "# Get the patches for the intersection and set their color and alpha\n",
    "venn.get_patch_by_id('10').set_color('#FFC107')\n",
    "venn.get_patch_by_id('10').set_alpha(0.7)\n",
    "\n",
    "\n",
    "plt.title('Employees in the Sales Department')\n",
    "plt.show()\n"
   ]
  },
  {
   "cell_type": "code",
   "execution_count": 77,
   "id": "2e05b482",
   "metadata": {},
   "outputs": [
    {
     "data": {
      "image/png": "[encoded data removed]",
      "text/plain": [
       "<Figure size 640x480 with 1 Axes>"
      ]
     },
     "metadata": {},
     "output_type": "display_data"
    }
   ],
   "source": [
    "import matplotlib.pyplot as plt\n",
    "from matplotlib_venn import venn2\n",
    "\n",
    "U = set(['Alice', 'Bob', 'Charlie', 'David', 'Emily', 'Frank', 'Gina', 'Haley', 'Isaac'])\n",
    "A = set(['Charlie', 'David', 'Frank', 'Haley'])\n",
    "\n",
    "venn = venn2([A, U], set_labels=('Students not in extracurriculars', 'All Students'))\n",
    "\n",
    "# Shade the region for the complement of set A to indicate students in at least one extracurricular\n",
    "venn.get_patch_by_id('01').set_alpha(0.7)\n",
    "# Get the patches for the intersection and set their color and alpha\n",
    "venn.get_patch_by_id('10').set_color('#FFC107')\n",
    "venn.get_patch_by_id('10').set_alpha(0.7)\n",
    "\n",
    "plt.title('Students enrolled in extracurricular activities')\n",
    "plt.show()\n"
   ]
  },
  {
   "cell_type": "code",
   "execution_count": null,
   "id": "f9671bb0",
   "metadata": {},
   "outputs": [],
   "source": []
  }
 ],
 "metadata": {
  "kernelspec": {
   "display_name": "Python 3 (ipykernel)",
   "language": "python",
   "name": "python3"
  },
  "language_info": {
   "codemirror_mode": {
    "name": "ipython",
    "version": 3
   },
   "file_extension": ".py",
   "mimetype": "text/x-python",
   "name": "python",
   "nbconvert_exporter": "python",
   "pygments_lexer": "ipython3",
   "version": "3.11.2"
  }
 },
 "nbformat": 4,
 "nbformat_minor": 5
}
