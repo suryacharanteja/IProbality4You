{
 "cells": [
  {
   "cell_type": "markdown",
   "id": "01e0f56b",
   "metadata": {},
   "source": [
    "# Permutations"
   ]
  },
  {
   "cell_type": "markdown",
   "id": "f0376163",
   "metadata": {},
   "source": [
    "### A , B , C\n",
    "\n",
    "\n",
    "ABC, ACB, BAC, BCA, CAB, CBA"
   ]
  },
  {
   "cell_type": "markdown",
   "id": "f9292c93",
   "metadata": {},
   "source": [
    "### two ways of permutations:\n",
    "    1. permutations with repetition -----------> n objects and arrange them in r places ,allowing the repetition of the object ======> n**r\n",
    "    example: A, B, C in two places\n",
    "    AA, AB, AC, BA, BB, BC, CA, CB, CC\n",
    "    n = 3\n",
    "    r = \n",
    "    n ** r\n",
    "    3 ** 2 \n",
    "    9\n",
    "    \n",
    "    2. permutations without repetition ---> n objects,  arrange them in r places, without repetition of objects,  n! / (n-r)!\n",
    "    example: A, B, C in two places without repetition\n",
    "    AB, AC, BA, BC, CA, CB\n",
    "    = 3! / (3-2)!\n",
    "    = 3 * 2 * 1\n",
    "    6"
   ]
  },
  {
   "cell_type": "code",
   "execution_count": 1,
   "id": "2ffce43a",
   "metadata": {},
   "outputs": [
    {
     "name": "stdout",
     "output_type": "stream",
     "text": [
      "[(1, 2, 3), (1, 3, 2), (2, 1, 3), (2, 3, 1), (3, 1, 2), (3, 2, 1)]\n"
     ]
    }
   ],
   "source": [
    "import itertools\n",
    "\n",
    "# generate all permutations of a list of numbers\n",
    "\n",
    "numbers = [1, 2, 3]\n",
    "\n",
    "permutations = list(itertools.permutations(numbers))\n",
    "\n",
    "print(permutations)"
   ]
  },
  {
   "cell_type": "code",
   "execution_count": 9,
   "id": "c3a38d39",
   "metadata": {},
   "outputs": [
    {
     "name": "stdout",
     "output_type": "stream",
     "text": [
      "[('A', 'B', 'C'), ('A', 'C', 'B'), ('B', 'A', 'C'), ('B', 'C', 'A'), ('C', 'A', 'B'), ('C', 'B', 'A')]\n"
     ]
    }
   ],
   "source": [
    "\n",
    "numbers = 'ABC'\n",
    "\n",
    "permutations = list(itertools.permutations(numbers))\n",
    "\n",
    "print(permutations)"
   ]
  },
  {
   "cell_type": "code",
   "execution_count": 3,
   "id": "e1e628f4",
   "metadata": {},
   "outputs": [
    {
     "name": "stdout",
     "output_type": "stream",
     "text": [
      "[('A', 'B', 'C', 'D', 'E', 'F'), ('A', 'B', 'C', 'D', 'F', 'E'), ('A', 'B', 'C', 'E', 'D', 'F'), ('A', 'B', 'C', 'E', 'F', 'D'), ('A', 'B', 'C', 'F', 'D', 'E'), ('A', 'B', 'C', 'F', 'E', 'D'), ('A', 'B', 'D', 'C', 'E', 'F'), ('A', 'B', 'D', 'C', 'F', 'E'), ('A', 'B', 'D', 'E', 'C', 'F'), ('A', 'B', 'D', 'E', 'F', 'C'), ('A', 'B', 'D', 'F', 'C', 'E'), ('A', 'B', 'D', 'F', 'E', 'C'), ('A', 'B', 'E', 'C', 'D', 'F'), ('A', 'B', 'E', 'C', 'F', 'D'), ('A', 'B', 'E', 'D', 'C', 'F'), ('A', 'B', 'E', 'D', 'F', 'C'), ('A', 'B', 'E', 'F', 'C', 'D'), ('A', 'B', 'E', 'F', 'D', 'C'), ('A', 'B', 'F', 'C', 'D', 'E'), ('A', 'B', 'F', 'C', 'E', 'D'), ('A', 'B', 'F', 'D', 'C', 'E'), ('A', 'B', 'F', 'D', 'E', 'C'), ('A', 'B', 'F', 'E', 'C', 'D'), ('A', 'B', 'F', 'E', 'D', 'C'), ('A', 'C', 'B', 'D', 'E', 'F'), ('A', 'C', 'B', 'D', 'F', 'E'), ('A', 'C', 'B', 'E', 'D', 'F'), ('A', 'C', 'B', 'E', 'F', 'D'), ('A', 'C', 'B', 'F', 'D', 'E'), ('A', 'C', 'B', 'F', 'E', 'D'), ('A', 'C', 'D', 'B', 'E', 'F'), ('A', 'C', 'D', 'B', 'F', 'E'), ('A', 'C', 'D', 'E', 'B', 'F'), ('A', 'C', 'D', 'E', 'F', 'B'), ('A', 'C', 'D', 'F', 'B', 'E'), ('A', 'C', 'D', 'F', 'E', 'B'), ('A', 'C', 'E', 'B', 'D', 'F'), ('A', 'C', 'E', 'B', 'F', 'D'), ('A', 'C', 'E', 'D', 'B', 'F'), ('A', 'C', 'E', 'D', 'F', 'B'), ('A', 'C', 'E', 'F', 'B', 'D'), ('A', 'C', 'E', 'F', 'D', 'B'), ('A', 'C', 'F', 'B', 'D', 'E'), ('A', 'C', 'F', 'B', 'E', 'D'), ('A', 'C', 'F', 'D', 'B', 'E'), ('A', 'C', 'F', 'D', 'E', 'B'), ('A', 'C', 'F', 'E', 'B', 'D'), ('A', 'C', 'F', 'E', 'D', 'B'), ('A', 'D', 'B', 'C', 'E', 'F'), ('A', 'D', 'B', 'C', 'F', 'E'), ('A', 'D', 'B', 'E', 'C', 'F'), ('A', 'D', 'B', 'E', 'F', 'C'), ('A', 'D', 'B', 'F', 'C', 'E'), ('A', 'D', 'B', 'F', 'E', 'C'), ('A', 'D', 'C', 'B', 'E', 'F'), ('A', 'D', 'C', 'B', 'F', 'E'), ('A', 'D', 'C', 'E', 'B', 'F'), ('A', 'D', 'C', 'E', 'F', 'B'), ('A', 'D', 'C', 'F', 'B', 'E'), ('A', 'D', 'C', 'F', 'E', 'B'), ('A', 'D', 'E', 'B', 'C', 'F'), ('A', 'D', 'E', 'B', 'F', 'C'), ('A', 'D', 'E', 'C', 'B', 'F'), ('A', 'D', 'E', 'C', 'F', 'B'), ('A', 'D', 'E', 'F', 'B', 'C'), ('A', 'D', 'E', 'F', 'C', 'B'), ('A', 'D', 'F', 'B', 'C', 'E'), ('A', 'D', 'F', 'B', 'E', 'C'), ('A', 'D', 'F', 'C', 'B', 'E'), ('A', 'D', 'F', 'C', 'E', 'B'), ('A', 'D', 'F', 'E', 'B', 'C'), ('A', 'D', 'F', 'E', 'C', 'B'), ('A', 'E', 'B', 'C', 'D', 'F'), ('A', 'E', 'B', 'C', 'F', 'D'), ('A', 'E', 'B', 'D', 'C', 'F'), ('A', 'E', 'B', 'D', 'F', 'C'), ('A', 'E', 'B', 'F', 'C', 'D'), ('A', 'E', 'B', 'F', 'D', 'C'), ('A', 'E', 'C', 'B', 'D', 'F'), ('A', 'E', 'C', 'B', 'F', 'D'), ('A', 'E', 'C', 'D', 'B', 'F'), ('A', 'E', 'C', 'D', 'F', 'B'), ('A', 'E', 'C', 'F', 'B', 'D'), ('A', 'E', 'C', 'F', 'D', 'B'), ('A', 'E', 'D', 'B', 'C', 'F'), ('A', 'E', 'D', 'B', 'F', 'C'), ('A', 'E', 'D', 'C', 'B', 'F'), ('A', 'E', 'D', 'C', 'F', 'B'), ('A', 'E', 'D', 'F', 'B', 'C'), ('A', 'E', 'D', 'F', 'C', 'B'), ('A', 'E', 'F', 'B', 'C', 'D'), ('A', 'E', 'F', 'B', 'D', 'C'), ('A', 'E', 'F', 'C', 'B', 'D'), ('A', 'E', 'F', 'C', 'D', 'B'), ('A', 'E', 'F', 'D', 'B', 'C'), ('A', 'E', 'F', 'D', 'C', 'B'), ('A', 'F', 'B', 'C', 'D', 'E'), ('A', 'F', 'B', 'C', 'E', 'D'), ('A', 'F', 'B', 'D', 'C', 'E'), ('A', 'F', 'B', 'D', 'E', 'C'), ('A', 'F', 'B', 'E', 'C', 'D'), ('A', 'F', 'B', 'E', 'D', 'C'), ('A', 'F', 'C', 'B', 'D', 'E'), ('A', 'F', 'C', 'B', 'E', 'D'), ('A', 'F', 'C', 'D', 'B', 'E'), ('A', 'F', 'C', 'D', 'E', 'B'), ('A', 'F', 'C', 'E', 'B', 'D'), ('A', 'F', 'C', 'E', 'D', 'B'), ('A', 'F', 'D', 'B', 'C', 'E'), ('A', 'F', 'D', 'B', 'E', 'C'), ('A', 'F', 'D', 'C', 'B', 'E'), ('A', 'F', 'D', 'C', 'E', 'B'), ('A', 'F', 'D', 'E', 'B', 'C'), ('A', 'F', 'D', 'E', 'C', 'B'), ('A', 'F', 'E', 'B', 'C', 'D'), ('A', 'F', 'E', 'B', 'D', 'C'), ('A', 'F', 'E', 'C', 'B', 'D'), ('A', 'F', 'E', 'C', 'D', 'B'), ('A', 'F', 'E', 'D', 'B', 'C'), ('A', 'F', 'E', 'D', 'C', 'B'), ('B', 'A', 'C', 'D', 'E', 'F'), ('B', 'A', 'C', 'D', 'F', 'E'), ('B', 'A', 'C', 'E', 'D', 'F'), ('B', 'A', 'C', 'E', 'F', 'D'), ('B', 'A', 'C', 'F', 'D', 'E'), ('B', 'A', 'C', 'F', 'E', 'D'), ('B', 'A', 'D', 'C', 'E', 'F'), ('B', 'A', 'D', 'C', 'F', 'E'), ('B', 'A', 'D', 'E', 'C', 'F'), ('B', 'A', 'D', 'E', 'F', 'C'), ('B', 'A', 'D', 'F', 'C', 'E'), ('B', 'A', 'D', 'F', 'E', 'C'), ('B', 'A', 'E', 'C', 'D', 'F'), ('B', 'A', 'E', 'C', 'F', 'D'), ('B', 'A', 'E', 'D', 'C', 'F'), ('B', 'A', 'E', 'D', 'F', 'C'), ('B', 'A', 'E', 'F', 'C', 'D'), ('B', 'A', 'E', 'F', 'D', 'C'), ('B', 'A', 'F', 'C', 'D', 'E'), ('B', 'A', 'F', 'C', 'E', 'D'), ('B', 'A', 'F', 'D', 'C', 'E'), ('B', 'A', 'F', 'D', 'E', 'C'), ('B', 'A', 'F', 'E', 'C', 'D'), ('B', 'A', 'F', 'E', 'D', 'C'), ('B', 'C', 'A', 'D', 'E', 'F'), ('B', 'C', 'A', 'D', 'F', 'E'), ('B', 'C', 'A', 'E', 'D', 'F'), ('B', 'C', 'A', 'E', 'F', 'D'), ('B', 'C', 'A', 'F', 'D', 'E'), ('B', 'C', 'A', 'F', 'E', 'D'), ('B', 'C', 'D', 'A', 'E', 'F'), ('B', 'C', 'D', 'A', 'F', 'E'), ('B', 'C', 'D', 'E', 'A', 'F'), ('B', 'C', 'D', 'E', 'F', 'A'), ('B', 'C', 'D', 'F', 'A', 'E'), ('B', 'C', 'D', 'F', 'E', 'A'), ('B', 'C', 'E', 'A', 'D', 'F'), ('B', 'C', 'E', 'A', 'F', 'D'), ('B', 'C', 'E', 'D', 'A', 'F'), ('B', 'C', 'E', 'D', 'F', 'A'), ('B', 'C', 'E', 'F', 'A', 'D'), ('B', 'C', 'E', 'F', 'D', 'A'), ('B', 'C', 'F', 'A', 'D', 'E'), ('B', 'C', 'F', 'A', 'E', 'D'), ('B', 'C', 'F', 'D', 'A', 'E'), ('B', 'C', 'F', 'D', 'E', 'A'), ('B', 'C', 'F', 'E', 'A', 'D'), ('B', 'C', 'F', 'E', 'D', 'A'), ('B', 'D', 'A', 'C', 'E', 'F'), ('B', 'D', 'A', 'C', 'F', 'E'), ('B', 'D', 'A', 'E', 'C', 'F'), ('B', 'D', 'A', 'E', 'F', 'C'), ('B', 'D', 'A', 'F', 'C', 'E'), ('B', 'D', 'A', 'F', 'E', 'C'), ('B', 'D', 'C', 'A', 'E', 'F'), ('B', 'D', 'C', 'A', 'F', 'E'), ('B', 'D', 'C', 'E', 'A', 'F'), ('B', 'D', 'C', 'E', 'F', 'A'), ('B', 'D', 'C', 'F', 'A', 'E'), ('B', 'D', 'C', 'F', 'E', 'A'), ('B', 'D', 'E', 'A', 'C', 'F'), ('B', 'D', 'E', 'A', 'F', 'C'), ('B', 'D', 'E', 'C', 'A', 'F'), ('B', 'D', 'E', 'C', 'F', 'A'), ('B', 'D', 'E', 'F', 'A', 'C'), ('B', 'D', 'E', 'F', 'C', 'A'), ('B', 'D', 'F', 'A', 'C', 'E'), ('B', 'D', 'F', 'A', 'E', 'C'), ('B', 'D', 'F', 'C', 'A', 'E'), ('B', 'D', 'F', 'C', 'E', 'A'), ('B', 'D', 'F', 'E', 'A', 'C'), ('B', 'D', 'F', 'E', 'C', 'A'), ('B', 'E', 'A', 'C', 'D', 'F'), ('B', 'E', 'A', 'C', 'F', 'D'), ('B', 'E', 'A', 'D', 'C', 'F'), ('B', 'E', 'A', 'D', 'F', 'C'), ('B', 'E', 'A', 'F', 'C', 'D'), ('B', 'E', 'A', 'F', 'D', 'C'), ('B', 'E', 'C', 'A', 'D', 'F'), ('B', 'E', 'C', 'A', 'F', 'D'), ('B', 'E', 'C', 'D', 'A', 'F'), ('B', 'E', 'C', 'D', 'F', 'A'), ('B', 'E', 'C', 'F', 'A', 'D'), ('B', 'E', 'C', 'F', 'D', 'A'), ('B', 'E', 'D', 'A', 'C', 'F'), ('B', 'E', 'D', 'A', 'F', 'C'), ('B', 'E', 'D', 'C', 'A', 'F'), ('B', 'E', 'D', 'C', 'F', 'A'), ('B', 'E', 'D', 'F', 'A', 'C'), ('B', 'E', 'D', 'F', 'C', 'A'), ('B', 'E', 'F', 'A', 'C', 'D'), ('B', 'E', 'F', 'A', 'D', 'C'), ('B', 'E', 'F', 'C', 'A', 'D'), ('B', 'E', 'F', 'C', 'D', 'A'), ('B', 'E', 'F', 'D', 'A', 'C'), ('B', 'E', 'F', 'D', 'C', 'A'), ('B', 'F', 'A', 'C', 'D', 'E'), ('B', 'F', 'A', 'C', 'E', 'D'), ('B', 'F', 'A', 'D', 'C', 'E'), ('B', 'F', 'A', 'D', 'E', 'C'), ('B', 'F', 'A', 'E', 'C', 'D'), ('B', 'F', 'A', 'E', 'D', 'C'), ('B', 'F', 'C', 'A', 'D', 'E'), ('B', 'F', 'C', 'A', 'E', 'D'), ('B', 'F', 'C', 'D', 'A', 'E'), ('B', 'F', 'C', 'D', 'E', 'A'), ('B', 'F', 'C', 'E', 'A', 'D'), ('B', 'F', 'C', 'E', 'D', 'A'), ('B', 'F', 'D', 'A', 'C', 'E'), ('B', 'F', 'D', 'A', 'E', 'C'), ('B', 'F', 'D', 'C', 'A', 'E'), ('B', 'F', 'D', 'C', 'E', 'A'), ('B', 'F', 'D', 'E', 'A', 'C'), ('B', 'F', 'D', 'E', 'C', 'A'), ('B', 'F', 'E', 'A', 'C', 'D'), ('B', 'F', 'E', 'A', 'D', 'C'), ('B', 'F', 'E', 'C', 'A', 'D'), ('B', 'F', 'E', 'C', 'D', 'A'), ('B', 'F', 'E', 'D', 'A', 'C'), ('B', 'F', 'E', 'D', 'C', 'A'), ('C', 'A', 'B', 'D', 'E', 'F'), ('C', 'A', 'B', 'D', 'F', 'E'), ('C', 'A', 'B', 'E', 'D', 'F'), ('C', 'A', 'B', 'E', 'F', 'D'), ('C', 'A', 'B', 'F', 'D', 'E'), ('C', 'A', 'B', 'F', 'E', 'D'), ('C', 'A', 'D', 'B', 'E', 'F'), ('C', 'A', 'D', 'B', 'F', 'E'), ('C', 'A', 'D', 'E', 'B', 'F'), ('C', 'A', 'D', 'E', 'F', 'B'), ('C', 'A', 'D', 'F', 'B', 'E'), ('C', 'A', 'D', 'F', 'E', 'B'), ('C', 'A', 'E', 'B', 'D', 'F'), ('C', 'A', 'E', 'B', 'F', 'D'), ('C', 'A', 'E', 'D', 'B', 'F'), ('C', 'A', 'E', 'D', 'F', 'B'), ('C', 'A', 'E', 'F', 'B', 'D'), ('C', 'A', 'E', 'F', 'D', 'B'), ('C', 'A', 'F', 'B', 'D', 'E'), ('C', 'A', 'F', 'B', 'E', 'D'), ('C', 'A', 'F', 'D', 'B', 'E'), ('C', 'A', 'F', 'D', 'E', 'B'), ('C', 'A', 'F', 'E', 'B', 'D'), ('C', 'A', 'F', 'E', 'D', 'B'), ('C', 'B', 'A', 'D', 'E', 'F'), ('C', 'B', 'A', 'D', 'F', 'E'), ('C', 'B', 'A', 'E', 'D', 'F'), ('C', 'B', 'A', 'E', 'F', 'D'), ('C', 'B', 'A', 'F', 'D', 'E'), ('C', 'B', 'A', 'F', 'E', 'D'), ('C', 'B', 'D', 'A', 'E', 'F'), ('C', 'B', 'D', 'A', 'F', 'E'), ('C', 'B', 'D', 'E', 'A', 'F'), ('C', 'B', 'D', 'E', 'F', 'A'), ('C', 'B', 'D', 'F', 'A', 'E'), ('C', 'B', 'D', 'F', 'E', 'A'), ('C', 'B', 'E', 'A', 'D', 'F'), ('C', 'B', 'E', 'A', 'F', 'D'), ('C', 'B', 'E', 'D', 'A', 'F'), ('C', 'B', 'E', 'D', 'F', 'A'), ('C', 'B', 'E', 'F', 'A', 'D'), ('C', 'B', 'E', 'F', 'D', 'A'), ('C', 'B', 'F', 'A', 'D', 'E'), ('C', 'B', 'F', 'A', 'E', 'D'), ('C', 'B', 'F', 'D', 'A', 'E'), ('C', 'B', 'F', 'D', 'E', 'A'), ('C', 'B', 'F', 'E', 'A', 'D'), ('C', 'B', 'F', 'E', 'D', 'A'), ('C', 'D', 'A', 'B', 'E', 'F'), ('C', 'D', 'A', 'B', 'F', 'E'), ('C', 'D', 'A', 'E', 'B', 'F'), ('C', 'D', 'A', 'E', 'F', 'B'), ('C', 'D', 'A', 'F', 'B', 'E'), ('C', 'D', 'A', 'F', 'E', 'B'), ('C', 'D', 'B', 'A', 'E', 'F'), ('C', 'D', 'B', 'A', 'F', 'E'), ('C', 'D', 'B', 'E', 'A', 'F'), ('C', 'D', 'B', 'E', 'F', 'A'), ('C', 'D', 'B', 'F', 'A', 'E'), ('C', 'D', 'B', 'F', 'E', 'A'), ('C', 'D', 'E', 'A', 'B', 'F'), ('C', 'D', 'E', 'A', 'F', 'B'), ('C', 'D', 'E', 'B', 'A', 'F'), ('C', 'D', 'E', 'B', 'F', 'A'), ('C', 'D', 'E', 'F', 'A', 'B'), ('C', 'D', 'E', 'F', 'B', 'A'), ('C', 'D', 'F', 'A', 'B', 'E'), ('C', 'D', 'F', 'A', 'E', 'B'), ('C', 'D', 'F', 'B', 'A', 'E'), ('C', 'D', 'F', 'B', 'E', 'A'), ('C', 'D', 'F', 'E', 'A', 'B'), ('C', 'D', 'F', 'E', 'B', 'A'), ('C', 'E', 'A', 'B', 'D', 'F'), ('C', 'E', 'A', 'B', 'F', 'D'), ('C', 'E', 'A', 'D', 'B', 'F'), ('C', 'E', 'A', 'D', 'F', 'B'), ('C', 'E', 'A', 'F', 'B', 'D'), ('C', 'E', 'A', 'F', 'D', 'B'), ('C', 'E', 'B', 'A', 'D', 'F'), ('C', 'E', 'B', 'A', 'F', 'D'), ('C', 'E', 'B', 'D', 'A', 'F'), ('C', 'E', 'B', 'D', 'F', 'A'), ('C', 'E', 'B', 'F', 'A', 'D'), ('C', 'E', 'B', 'F', 'D', 'A'), ('C', 'E', 'D', 'A', 'B', 'F'), ('C', 'E', 'D', 'A', 'F', 'B'), ('C', 'E', 'D', 'B', 'A', 'F'), ('C', 'E', 'D', 'B', 'F', 'A'), ('C', 'E', 'D', 'F', 'A', 'B'), ('C', 'E', 'D', 'F', 'B', 'A'), ('C', 'E', 'F', 'A', 'B', 'D'), ('C', 'E', 'F', 'A', 'D', 'B'), ('C', 'E', 'F', 'B', 'A', 'D'), ('C', 'E', 'F', 'B', 'D', 'A'), ('C', 'E', 'F', 'D', 'A', 'B'), ('C', 'E', 'F', 'D', 'B', 'A'), ('C', 'F', 'A', 'B', 'D', 'E'), ('C', 'F', 'A', 'B', 'E', 'D'), ('C', 'F', 'A', 'D', 'B', 'E'), ('C', 'F', 'A', 'D', 'E', 'B'), ('C', 'F', 'A', 'E', 'B', 'D'), ('C', 'F', 'A', 'E', 'D', 'B'), ('C', 'F', 'B', 'A', 'D', 'E'), ('C', 'F', 'B', 'A', 'E', 'D'), ('C', 'F', 'B', 'D', 'A', 'E'), ('C', 'F', 'B', 'D', 'E', 'A'), ('C', 'F', 'B', 'E', 'A', 'D'), ('C', 'F', 'B', 'E', 'D', 'A'), ('C', 'F', 'D', 'A', 'B', 'E'), ('C', 'F', 'D', 'A', 'E', 'B'), ('C', 'F', 'D', 'B', 'A', 'E'), ('C', 'F', 'D', 'B', 'E', 'A'), ('C', 'F', 'D', 'E', 'A', 'B'), ('C', 'F', 'D', 'E', 'B', 'A'), ('C', 'F', 'E', 'A', 'B', 'D'), ('C', 'F', 'E', 'A', 'D', 'B'), ('C', 'F', 'E', 'B', 'A', 'D'), ('C', 'F', 'E', 'B', 'D', 'A'), ('C', 'F', 'E', 'D', 'A', 'B'), ('C', 'F', 'E', 'D', 'B', 'A'), ('D', 'A', 'B', 'C', 'E', 'F'), ('D', 'A', 'B', 'C', 'F', 'E'), ('D', 'A', 'B', 'E', 'C', 'F'), ('D', 'A', 'B', 'E', 'F', 'C'), ('D', 'A', 'B', 'F', 'C', 'E'), ('D', 'A', 'B', 'F', 'E', 'C'), ('D', 'A', 'C', 'B', 'E', 'F'), ('D', 'A', 'C', 'B', 'F', 'E'), ('D', 'A', 'C', 'E', 'B', 'F'), ('D', 'A', 'C', 'E', 'F', 'B'), ('D', 'A', 'C', 'F', 'B', 'E'), ('D', 'A', 'C', 'F', 'E', 'B'), ('D', 'A', 'E', 'B', 'C', 'F'), ('D', 'A', 'E', 'B', 'F', 'C'), ('D', 'A', 'E', 'C', 'B', 'F'), ('D', 'A', 'E', 'C', 'F', 'B'), ('D', 'A', 'E', 'F', 'B', 'C'), ('D', 'A', 'E', 'F', 'C', 'B'), ('D', 'A', 'F', 'B', 'C', 'E'), ('D', 'A', 'F', 'B', 'E', 'C'), ('D', 'A', 'F', 'C', 'B', 'E'), ('D', 'A', 'F', 'C', 'E', 'B'), ('D', 'A', 'F', 'E', 'B', 'C'), ('D', 'A', 'F', 'E', 'C', 'B'), ('D', 'B', 'A', 'C', 'E', 'F'), ('D', 'B', 'A', 'C', 'F', 'E'), ('D', 'B', 'A', 'E', 'C', 'F'), ('D', 'B', 'A', 'E', 'F', 'C'), ('D', 'B', 'A', 'F', 'C', 'E'), ('D', 'B', 'A', 'F', 'E', 'C'), ('D', 'B', 'C', 'A', 'E', 'F'), ('D', 'B', 'C', 'A', 'F', 'E'), ('D', 'B', 'C', 'E', 'A', 'F'), ('D', 'B', 'C', 'E', 'F', 'A'), ('D', 'B', 'C', 'F', 'A', 'E'), ('D', 'B', 'C', 'F', 'E', 'A'), ('D', 'B', 'E', 'A', 'C', 'F'), ('D', 'B', 'E', 'A', 'F', 'C'), ('D', 'B', 'E', 'C', 'A', 'F'), ('D', 'B', 'E', 'C', 'F', 'A'), ('D', 'B', 'E', 'F', 'A', 'C'), ('D', 'B', 'E', 'F', 'C', 'A'), ('D', 'B', 'F', 'A', 'C', 'E'), ('D', 'B', 'F', 'A', 'E', 'C'), ('D', 'B', 'F', 'C', 'A', 'E'), ('D', 'B', 'F', 'C', 'E', 'A'), ('D', 'B', 'F', 'E', 'A', 'C'), ('D', 'B', 'F', 'E', 'C', 'A'), ('D', 'C', 'A', 'B', 'E', 'F'), ('D', 'C', 'A', 'B', 'F', 'E'), ('D', 'C', 'A', 'E', 'B', 'F'), ('D', 'C', 'A', 'E', 'F', 'B'), ('D', 'C', 'A', 'F', 'B', 'E'), ('D', 'C', 'A', 'F', 'E', 'B'), ('D', 'C', 'B', 'A', 'E', 'F'), ('D', 'C', 'B', 'A', 'F', 'E'), ('D', 'C', 'B', 'E', 'A', 'F'), ('D', 'C', 'B', 'E', 'F', 'A'), ('D', 'C', 'B', 'F', 'A', 'E'), ('D', 'C', 'B', 'F', 'E', 'A'), ('D', 'C', 'E', 'A', 'B', 'F'), ('D', 'C', 'E', 'A', 'F', 'B'), ('D', 'C', 'E', 'B', 'A', 'F'), ('D', 'C', 'E', 'B', 'F', 'A'), ('D', 'C', 'E', 'F', 'A', 'B'), ('D', 'C', 'E', 'F', 'B', 'A'), ('D', 'C', 'F', 'A', 'B', 'E'), ('D', 'C', 'F', 'A', 'E', 'B'), ('D', 'C', 'F', 'B', 'A', 'E'), ('D', 'C', 'F', 'B', 'E', 'A'), ('D', 'C', 'F', 'E', 'A', 'B'), ('D', 'C', 'F', 'E', 'B', 'A'), ('D', 'E', 'A', 'B', 'C', 'F'), ('D', 'E', 'A', 'B', 'F', 'C'), ('D', 'E', 'A', 'C', 'B', 'F'), ('D', 'E', 'A', 'C', 'F', 'B'), ('D', 'E', 'A', 'F', 'B', 'C'), ('D', 'E', 'A', 'F', 'C', 'B'), ('D', 'E', 'B', 'A', 'C', 'F'), ('D', 'E', 'B', 'A', 'F', 'C'), ('D', 'E', 'B', 'C', 'A', 'F'), ('D', 'E', 'B', 'C', 'F', 'A'), ('D', 'E', 'B', 'F', 'A', 'C'), ('D', 'E', 'B', 'F', 'C', 'A'), ('D', 'E', 'C', 'A', 'B', 'F'), ('D', 'E', 'C', 'A', 'F', 'B'), ('D', 'E', 'C', 'B', 'A', 'F'), ('D', 'E', 'C', 'B', 'F', 'A'), ('D', 'E', 'C', 'F', 'A', 'B'), ('D', 'E', 'C', 'F', 'B', 'A'), ('D', 'E', 'F', 'A', 'B', 'C'), ('D', 'E', 'F', 'A', 'C', 'B'), ('D', 'E', 'F', 'B', 'A', 'C'), ('D', 'E', 'F', 'B', 'C', 'A'), ('D', 'E', 'F', 'C', 'A', 'B'), ('D', 'E', 'F', 'C', 'B', 'A'), ('D', 'F', 'A', 'B', 'C', 'E'), ('D', 'F', 'A', 'B', 'E', 'C'), ('D', 'F', 'A', 'C', 'B', 'E'), ('D', 'F', 'A', 'C', 'E', 'B'), ('D', 'F', 'A', 'E', 'B', 'C'), ('D', 'F', 'A', 'E', 'C', 'B'), ('D', 'F', 'B', 'A', 'C', 'E'), ('D', 'F', 'B', 'A', 'E', 'C'), ('D', 'F', 'B', 'C', 'A', 'E'), ('D', 'F', 'B', 'C', 'E', 'A'), ('D', 'F', 'B', 'E', 'A', 'C'), ('D', 'F', 'B', 'E', 'C', 'A'), ('D', 'F', 'C', 'A', 'B', 'E'), ('D', 'F', 'C', 'A', 'E', 'B'), ('D', 'F', 'C', 'B', 'A', 'E'), ('D', 'F', 'C', 'B', 'E', 'A'), ('D', 'F', 'C', 'E', 'A', 'B'), ('D', 'F', 'C', 'E', 'B', 'A'), ('D', 'F', 'E', 'A', 'B', 'C'), ('D', 'F', 'E', 'A', 'C', 'B'), ('D', 'F', 'E', 'B', 'A', 'C'), ('D', 'F', 'E', 'B', 'C', 'A'), ('D', 'F', 'E', 'C', 'A', 'B'), ('D', 'F', 'E', 'C', 'B', 'A'), ('E', 'A', 'B', 'C', 'D', 'F'), ('E', 'A', 'B', 'C', 'F', 'D'), ('E', 'A', 'B', 'D', 'C', 'F'), ('E', 'A', 'B', 'D', 'F', 'C'), ('E', 'A', 'B', 'F', 'C', 'D'), ('E', 'A', 'B', 'F', 'D', 'C'), ('E', 'A', 'C', 'B', 'D', 'F'), ('E', 'A', 'C', 'B', 'F', 'D'), ('E', 'A', 'C', 'D', 'B', 'F'), ('E', 'A', 'C', 'D', 'F', 'B'), ('E', 'A', 'C', 'F', 'B', 'D'), ('E', 'A', 'C', 'F', 'D', 'B'), ('E', 'A', 'D', 'B', 'C', 'F'), ('E', 'A', 'D', 'B', 'F', 'C'), ('E', 'A', 'D', 'C', 'B', 'F'), ('E', 'A', 'D', 'C', 'F', 'B'), ('E', 'A', 'D', 'F', 'B', 'C'), ('E', 'A', 'D', 'F', 'C', 'B'), ('E', 'A', 'F', 'B', 'C', 'D'), ('E', 'A', 'F', 'B', 'D', 'C'), ('E', 'A', 'F', 'C', 'B', 'D'), ('E', 'A', 'F', 'C', 'D', 'B'), ('E', 'A', 'F', 'D', 'B', 'C'), ('E', 'A', 'F', 'D', 'C', 'B'), ('E', 'B', 'A', 'C', 'D', 'F'), ('E', 'B', 'A', 'C', 'F', 'D'), ('E', 'B', 'A', 'D', 'C', 'F'), ('E', 'B', 'A', 'D', 'F', 'C'), ('E', 'B', 'A', 'F', 'C', 'D'), ('E', 'B', 'A', 'F', 'D', 'C'), ('E', 'B', 'C', 'A', 'D', 'F'), ('E', 'B', 'C', 'A', 'F', 'D'), ('E', 'B', 'C', 'D', 'A', 'F'), ('E', 'B', 'C', 'D', 'F', 'A'), ('E', 'B', 'C', 'F', 'A', 'D'), ('E', 'B', 'C', 'F', 'D', 'A'), ('E', 'B', 'D', 'A', 'C', 'F'), ('E', 'B', 'D', 'A', 'F', 'C'), ('E', 'B', 'D', 'C', 'A', 'F'), ('E', 'B', 'D', 'C', 'F', 'A'), ('E', 'B', 'D', 'F', 'A', 'C'), ('E', 'B', 'D', 'F', 'C', 'A'), ('E', 'B', 'F', 'A', 'C', 'D'), ('E', 'B', 'F', 'A', 'D', 'C'), ('E', 'B', 'F', 'C', 'A', 'D'), ('E', 'B', 'F', 'C', 'D', 'A'), ('E', 'B', 'F', 'D', 'A', 'C'), ('E', 'B', 'F', 'D', 'C', 'A'), ('E', 'C', 'A', 'B', 'D', 'F'), ('E', 'C', 'A', 'B', 'F', 'D'), ('E', 'C', 'A', 'D', 'B', 'F'), ('E', 'C', 'A', 'D', 'F', 'B'), ('E', 'C', 'A', 'F', 'B', 'D'), ('E', 'C', 'A', 'F', 'D', 'B'), ('E', 'C', 'B', 'A', 'D', 'F'), ('E', 'C', 'B', 'A', 'F', 'D'), ('E', 'C', 'B', 'D', 'A', 'F'), ('E', 'C', 'B', 'D', 'F', 'A'), ('E', 'C', 'B', 'F', 'A', 'D'), ('E', 'C', 'B', 'F', 'D', 'A'), ('E', 'C', 'D', 'A', 'B', 'F'), ('E', 'C', 'D', 'A', 'F', 'B'), ('E', 'C', 'D', 'B', 'A', 'F'), ('E', 'C', 'D', 'B', 'F', 'A'), ('E', 'C', 'D', 'F', 'A', 'B'), ('E', 'C', 'D', 'F', 'B', 'A'), ('E', 'C', 'F', 'A', 'B', 'D'), ('E', 'C', 'F', 'A', 'D', 'B'), ('E', 'C', 'F', 'B', 'A', 'D'), ('E', 'C', 'F', 'B', 'D', 'A'), ('E', 'C', 'F', 'D', 'A', 'B'), ('E', 'C', 'F', 'D', 'B', 'A'), ('E', 'D', 'A', 'B', 'C', 'F'), ('E', 'D', 'A', 'B', 'F', 'C'), ('E', 'D', 'A', 'C', 'B', 'F'), ('E', 'D', 'A', 'C', 'F', 'B'), ('E', 'D', 'A', 'F', 'B', 'C'), ('E', 'D', 'A', 'F', 'C', 'B'), ('E', 'D', 'B', 'A', 'C', 'F'), ('E', 'D', 'B', 'A', 'F', 'C'), ('E', 'D', 'B', 'C', 'A', 'F'), ('E', 'D', 'B', 'C', 'F', 'A'), ('E', 'D', 'B', 'F', 'A', 'C'), ('E', 'D', 'B', 'F', 'C', 'A'), ('E', 'D', 'C', 'A', 'B', 'F'), ('E', 'D', 'C', 'A', 'F', 'B'), ('E', 'D', 'C', 'B', 'A', 'F'), ('E', 'D', 'C', 'B', 'F', 'A'), ('E', 'D', 'C', 'F', 'A', 'B'), ('E', 'D', 'C', 'F', 'B', 'A'), ('E', 'D', 'F', 'A', 'B', 'C'), ('E', 'D', 'F', 'A', 'C', 'B'), ('E', 'D', 'F', 'B', 'A', 'C'), ('E', 'D', 'F', 'B', 'C', 'A'), ('E', 'D', 'F', 'C', 'A', 'B'), ('E', 'D', 'F', 'C', 'B', 'A'), ('E', 'F', 'A', 'B', 'C', 'D'), ('E', 'F', 'A', 'B', 'D', 'C'), ('E', 'F', 'A', 'C', 'B', 'D'), ('E', 'F', 'A', 'C', 'D', 'B'), ('E', 'F', 'A', 'D', 'B', 'C'), ('E', 'F', 'A', 'D', 'C', 'B'), ('E', 'F', 'B', 'A', 'C', 'D'), ('E', 'F', 'B', 'A', 'D', 'C'), ('E', 'F', 'B', 'C', 'A', 'D'), ('E', 'F', 'B', 'C', 'D', 'A'), ('E', 'F', 'B', 'D', 'A', 'C'), ('E', 'F', 'B', 'D', 'C', 'A'), ('E', 'F', 'C', 'A', 'B', 'D'), ('E', 'F', 'C', 'A', 'D', 'B'), ('E', 'F', 'C', 'B', 'A', 'D'), ('E', 'F', 'C', 'B', 'D', 'A'), ('E', 'F', 'C', 'D', 'A', 'B'), ('E', 'F', 'C', 'D', 'B', 'A'), ('E', 'F', 'D', 'A', 'B', 'C'), ('E', 'F', 'D', 'A', 'C', 'B'), ('E', 'F', 'D', 'B', 'A', 'C'), ('E', 'F', 'D', 'B', 'C', 'A'), ('E', 'F', 'D', 'C', 'A', 'B'), ('E', 'F', 'D', 'C', 'B', 'A'), ('F', 'A', 'B', 'C', 'D', 'E'), ('F', 'A', 'B', 'C', 'E', 'D'), ('F', 'A', 'B', 'D', 'C', 'E'), ('F', 'A', 'B', 'D', 'E', 'C'), ('F', 'A', 'B', 'E', 'C', 'D'), ('F', 'A', 'B', 'E', 'D', 'C'), ('F', 'A', 'C', 'B', 'D', 'E'), ('F', 'A', 'C', 'B', 'E', 'D'), ('F', 'A', 'C', 'D', 'B', 'E'), ('F', 'A', 'C', 'D', 'E', 'B'), ('F', 'A', 'C', 'E', 'B', 'D'), ('F', 'A', 'C', 'E', 'D', 'B'), ('F', 'A', 'D', 'B', 'C', 'E'), ('F', 'A', 'D', 'B', 'E', 'C'), ('F', 'A', 'D', 'C', 'B', 'E'), ('F', 'A', 'D', 'C', 'E', 'B'), ('F', 'A', 'D', 'E', 'B', 'C'), ('F', 'A', 'D', 'E', 'C', 'B'), ('F', 'A', 'E', 'B', 'C', 'D'), ('F', 'A', 'E', 'B', 'D', 'C'), ('F', 'A', 'E', 'C', 'B', 'D'), ('F', 'A', 'E', 'C', 'D', 'B'), ('F', 'A', 'E', 'D', 'B', 'C'), ('F', 'A', 'E', 'D', 'C', 'B'), ('F', 'B', 'A', 'C', 'D', 'E'), ('F', 'B', 'A', 'C', 'E', 'D'), ('F', 'B', 'A', 'D', 'C', 'E'), ('F', 'B', 'A', 'D', 'E', 'C'), ('F', 'B', 'A', 'E', 'C', 'D'), ('F', 'B', 'A', 'E', 'D', 'C'), ('F', 'B', 'C', 'A', 'D', 'E'), ('F', 'B', 'C', 'A', 'E', 'D'), ('F', 'B', 'C', 'D', 'A', 'E'), ('F', 'B', 'C', 'D', 'E', 'A'), ('F', 'B', 'C', 'E', 'A', 'D'), ('F', 'B', 'C', 'E', 'D', 'A'), ('F', 'B', 'D', 'A', 'C', 'E'), ('F', 'B', 'D', 'A', 'E', 'C'), ('F', 'B', 'D', 'C', 'A', 'E'), ('F', 'B', 'D', 'C', 'E', 'A'), ('F', 'B', 'D', 'E', 'A', 'C'), ('F', 'B', 'D', 'E', 'C', 'A'), ('F', 'B', 'E', 'A', 'C', 'D'), ('F', 'B', 'E', 'A', 'D', 'C'), ('F', 'B', 'E', 'C', 'A', 'D'), ('F', 'B', 'E', 'C', 'D', 'A'), ('F', 'B', 'E', 'D', 'A', 'C'), ('F', 'B', 'E', 'D', 'C', 'A'), ('F', 'C', 'A', 'B', 'D', 'E'), ('F', 'C', 'A', 'B', 'E', 'D'), ('F', 'C', 'A', 'D', 'B', 'E'), ('F', 'C', 'A', 'D', 'E', 'B'), ('F', 'C', 'A', 'E', 'B', 'D'), ('F', 'C', 'A', 'E', 'D', 'B'), ('F', 'C', 'B', 'A', 'D', 'E'), ('F', 'C', 'B', 'A', 'E', 'D'), ('F', 'C', 'B', 'D', 'A', 'E'), ('F', 'C', 'B', 'D', 'E', 'A'), ('F', 'C', 'B', 'E', 'A', 'D'), ('F', 'C', 'B', 'E', 'D', 'A'), ('F', 'C', 'D', 'A', 'B', 'E'), ('F', 'C', 'D', 'A', 'E', 'B'), ('F', 'C', 'D', 'B', 'A', 'E'), ('F', 'C', 'D', 'B', 'E', 'A'), ('F', 'C', 'D', 'E', 'A', 'B'), ('F', 'C', 'D', 'E', 'B', 'A'), ('F', 'C', 'E', 'A', 'B', 'D'), ('F', 'C', 'E', 'A', 'D', 'B'), ('F', 'C', 'E', 'B', 'A', 'D'), ('F', 'C', 'E', 'B', 'D', 'A'), ('F', 'C', 'E', 'D', 'A', 'B'), ('F', 'C', 'E', 'D', 'B', 'A'), ('F', 'D', 'A', 'B', 'C', 'E'), ('F', 'D', 'A', 'B', 'E', 'C'), ('F', 'D', 'A', 'C', 'B', 'E'), ('F', 'D', 'A', 'C', 'E', 'B'), ('F', 'D', 'A', 'E', 'B', 'C'), ('F', 'D', 'A', 'E', 'C', 'B'), ('F', 'D', 'B', 'A', 'C', 'E'), ('F', 'D', 'B', 'A', 'E', 'C'), ('F', 'D', 'B', 'C', 'A', 'E'), ('F', 'D', 'B', 'C', 'E', 'A'), ('F', 'D', 'B', 'E', 'A', 'C'), ('F', 'D', 'B', 'E', 'C', 'A'), ('F', 'D', 'C', 'A', 'B', 'E'), ('F', 'D', 'C', 'A', 'E', 'B'), ('F', 'D', 'C', 'B', 'A', 'E'), ('F', 'D', 'C', 'B', 'E', 'A'), ('F', 'D', 'C', 'E', 'A', 'B'), ('F', 'D', 'C', 'E', 'B', 'A'), ('F', 'D', 'E', 'A', 'B', 'C'), ('F', 'D', 'E', 'A', 'C', 'B'), ('F', 'D', 'E', 'B', 'A', 'C'), ('F', 'D', 'E', 'B', 'C', 'A'), ('F', 'D', 'E', 'C', 'A', 'B'), ('F', 'D', 'E', 'C', 'B', 'A'), ('F', 'E', 'A', 'B', 'C', 'D'), ('F', 'E', 'A', 'B', 'D', 'C'), ('F', 'E', 'A', 'C', 'B', 'D'), ('F', 'E', 'A', 'C', 'D', 'B'), ('F', 'E', 'A', 'D', 'B', 'C'), ('F', 'E', 'A', 'D', 'C', 'B'), ('F', 'E', 'B', 'A', 'C', 'D'), ('F', 'E', 'B', 'A', 'D', 'C'), ('F', 'E', 'B', 'C', 'A', 'D'), ('F', 'E', 'B', 'C', 'D', 'A'), ('F', 'E', 'B', 'D', 'A', 'C'), ('F', 'E', 'B', 'D', 'C', 'A'), ('F', 'E', 'C', 'A', 'B', 'D'), ('F', 'E', 'C', 'A', 'D', 'B'), ('F', 'E', 'C', 'B', 'A', 'D'), ('F', 'E', 'C', 'B', 'D', 'A'), ('F', 'E', 'C', 'D', 'A', 'B'), ('F', 'E', 'C', 'D', 'B', 'A'), ('F', 'E', 'D', 'A', 'B', 'C'), ('F', 'E', 'D', 'A', 'C', 'B'), ('F', 'E', 'D', 'B', 'A', 'C'), ('F', 'E', 'D', 'B', 'C', 'A'), ('F', 'E', 'D', 'C', 'A', 'B'), ('F', 'E', 'D', 'C', 'B', 'A')]\n"
     ]
    }
   ],
   "source": [
    "\n",
    "numbers = 'ABCDEF'\n",
    "\n",
    "permutations = list(itertools.permutations(numbers))\n",
    "\n",
    "print(permutations)"
   ]
  },
  {
   "cell_type": "code",
   "execution_count": null,
   "id": "11aadf98",
   "metadata": {},
   "outputs": [],
   "source": []
  },
  {
   "cell_type": "markdown",
   "id": "bf6fb3eb",
   "metadata": {},
   "source": [
    "# distinguishable permutations"
   ]
  },
  {
   "cell_type": "code",
   "execution_count": null,
   "id": "0f2add1d",
   "metadata": {},
   "outputs": [],
   "source": [
    "example: 3 distinguishable beads to arrange in a circle, \n",
    "    \n",
    "    permutations = 3! = 3*2*1 = 6\n",
    "    \n",
    "    \n",
    "    number of distinguishable permutations = 3! / 3 = 6/3 = 2\n",
    "    "
   ]
  },
  {
   "cell_type": "markdown",
   "id": "5d615f52",
   "metadata": {},
   "source": [
    "# combination"
   ]
  },
  {
   "cell_type": "markdown",
   "id": "c3033540",
   "metadata": {},
   "source": [
    "### A, B, C\n",
    "\n",
    "combinations:\n",
    "    AB, AC, BC\n",
    "    \n",
    "permutations:\n",
    "    AB, AC, BA, BC, CA, CB"
   ]
  },
  {
   "cell_type": "markdown",
   "id": "02b15909",
   "metadata": {},
   "source": [
    "### Combinatios with repetition:\n",
    "    n objects and we want to choose r objects from the set, allowing the repetition of the objects\n",
    "    (n+r-1)! / r! (n-1)!\n",
    "    \n",
    "    n = number of objects\n",
    "    r = no of objects to be chosen"
   ]
  },
  {
   "cell_type": "markdown",
   "id": "da01e7d2",
   "metadata": {},
   "source": [
    "### Combinations without repetition:\n",
    "    n objects and we want to choose r objects from the set, allowing the without repetition of the objects\n",
    "    n! / r! (n-r)!\n",
    "    \n",
    "    n = number of objects\n",
    "    r = no of objects to be chosen"
   ]
  },
  {
   "cell_type": "markdown",
   "id": "05166bbe",
   "metadata": {},
   "source": [
    "### example"
   ]
  },
  {
   "cell_type": "code",
   "execution_count": 6,
   "id": "732e2e93",
   "metadata": {},
   "outputs": [
    {
     "name": "stdout",
     "output_type": "stream",
     "text": [
      "[(1, 2), (1, 3), (1, 4), (1, 5), (1, 6), (1, 76), (2, 3), (2, 4), (2, 5), (2, 6), (2, 76), (3, 4), (3, 5), (3, 6), (3, 76), (4, 5), (4, 6), (4, 76), (5, 6), (5, 76), (6, 76)]\n"
     ]
    }
   ],
   "source": [
    "import itertools\n",
    "\n",
    "# generate all permutations of a list of numbers\n",
    "\n",
    "numbers = [1, 2, 3, 4, 5, 6, 76]\n",
    "\n",
    "combinations = list(itertools.combinations(numbers, 2))\n",
    "\n",
    "print(combinations)\n"
   ]
  },
  {
   "cell_type": "code",
   "execution_count": 7,
   "id": "2455b760",
   "metadata": {},
   "outputs": [
    {
     "name": "stdout",
     "output_type": "stream",
     "text": [
      "[('a', 'b'), ('a', 'c'), ('b', 'c')]\n"
     ]
    }
   ],
   "source": [
    "import itertools\n",
    "\n",
    "# generate all permutations of a list of numbers\n",
    "\n",
    "numbers = 'abc'\n",
    "\n",
    "combinations = list(itertools.combinations(numbers, 2))\n",
    "\n",
    "print(combinations)\n"
   ]
  },
  {
   "cell_type": "code",
   "execution_count": 10,
   "id": "ac90f9eb",
   "metadata": {},
   "outputs": [
    {
     "name": "stdout",
     "output_type": "stream",
     "text": [
      "[('A', 'B'), ('A', 'C'), ('B', 'A'), ('B', 'C'), ('C', 'A'), ('C', 'B')]\n"
     ]
    }
   ],
   "source": [
    "numbers = 'ABC'\n",
    "\n",
    "permutations = list(itertools.permutations(numbers, 2))\n",
    "\n",
    "print(permutations)"
   ]
  },
  {
   "cell_type": "code",
   "execution_count": null,
   "id": "82eb6637",
   "metadata": {},
   "outputs": [],
   "source": []
  }
 ],
 "metadata": {
  "kernelspec": {
   "display_name": "Python 3 (ipykernel)",
   "language": "python",
   "name": "python3"
  },
  "language_info": {
   "codemirror_mode": {
    "name": "ipython",
    "version": 3
   },
   "file_extension": ".py",
   "mimetype": "text/x-python",
   "name": "python",
   "nbconvert_exporter": "python",
   "pygments_lexer": "ipython3",
   "version": "3.11.2"
  }
 },
 "nbformat": 4,
 "nbformat_minor": 5
}
