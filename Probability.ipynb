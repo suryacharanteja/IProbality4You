{
 "cells": [
  {
   "cell_type": "markdown",
   "id": "1f426992",
   "metadata": {},
   "source": [
    "# Applications of Probability in ML"
   ]
  },
  {
   "cell_type": "markdown",
   "id": "e94eed73",
   "metadata": {},
   "source": [
    "### 1. Uncertainity modeling:\n",
    "Natural Language Processing tasks:\n",
    "    speech recognition,\n",
    "    machine translation\n",
    "    Models:\n",
    "        Hidden Markov Models (HMMs)\n",
    "        Recurrent Neural Networks (RNNs)"
   ]
  },
  {
   "cell_type": "markdown",
   "id": "a5959b48",
   "metadata": {},
   "source": [
    "### 2. Decision making:\n",
    "Classification tasks:\n",
    "    spam detection"
   ]
  },
  {
   "cell_type": "code",
   "execution_count": null,
   "id": "ded94988",
   "metadata": {},
   "outputs": [],
   "source": []
  },
  {
   "cell_type": "markdown",
   "id": "8d9a9a81",
   "metadata": {},
   "source": [
    "# ex: rolling 2 dice"
   ]
  },
  {
   "cell_type": "markdown",
   "id": "e4854848",
   "metadata": {},
   "source": [
    "1. sum of 6\n",
    "\n",
    "SS = sum of 6\n",
    "\n"
   ]
  },
  {
   "cell_type": "markdown",
   "id": "08aaa9b6",
   "metadata": {},
   "source": [
    "### P(SS) = 5/36"
   ]
  },
  {
   "cell_type": "code",
   "execution_count": 10,
   "id": "b7281125",
   "metadata": {},
   "outputs": [
    {
     "name": "stdout",
     "output_type": "stream",
     "text": [
      "Probability of a sum of 6:  0.13918\n"
     ]
    }
   ],
   "source": [
    "import random\n",
    "\n",
    "\n",
    "# define the function to roll two dice\n",
    "\n",
    "def roll_dice():\n",
    "    return random.randint(1, 6), random.randint(1, 6)\n",
    "\n",
    "# define the function to check if the roll is a double\n",
    "def is_double(roll):\n",
    "    return roll[0] == roll[1]\n",
    "\n",
    "# calculate the probability of a sum of 6\n",
    "def probability_sum_6(n):\n",
    "    count = 0\n",
    "    for i in range(n):\n",
    "        roll = roll_dice()\n",
    "        if sum(roll) == 6:\n",
    "            count += 1\n",
    "    return count/n\n",
    "\n",
    "\n",
    "prob_sum_6 = probability_sum_6(n)\n",
    "\n",
    "print(\"Probability of a sum of 6: \", prob_sum_6)"
   ]
  },
  {
   "cell_type": "code",
   "execution_count": 7,
   "id": "f857ec2b",
   "metadata": {},
   "outputs": [
    {
     "data": {
      "text/plain": [
       "<function __main__.roll_dice()>"
      ]
     },
     "execution_count": 7,
     "metadata": {},
     "output_type": "execute_result"
    }
   ],
   "source": [
    "roll_dice"
   ]
  },
  {
   "cell_type": "code",
   "execution_count": 11,
   "id": "78067545",
   "metadata": {},
   "outputs": [
    {
     "data": {
      "text/plain": [
       "0.1388888888888889"
      ]
     },
     "execution_count": 11,
     "metadata": {},
     "output_type": "execute_result"
    }
   ],
   "source": [
    "5/36"
   ]
  },
  {
   "cell_type": "markdown",
   "id": "8b853454",
   "metadata": {},
   "source": [
    "# Classical Probability"
   ]
  },
  {
   "cell_type": "code",
   "execution_count": null,
   "id": "a4fc721a",
   "metadata": {},
   "outputs": [],
   "source": [
    "Laplacian probability:\n",
    "    Laplace\n",
    "    equally likely events, \n",
    "    conditional probability --> probability of an event given some other event has already occured."
   ]
  },
  {
   "cell_type": "markdown",
   "id": "16df0779",
   "metadata": {},
   "source": [
    "# Empirical or experimental probability"
   ]
  },
  {
   "cell_type": "markdown",
   "id": "00dcc2f2",
   "metadata": {},
   "source": [
    "###### this is calculated by performing a series of trials or experiments and observing the frequency with which a particular event occurs."
   ]
  },
  {
   "cell_type": "markdown",
   "id": "3e281bd8",
   "metadata": {},
   "source": [
    "# Addition rules for probability"
   ]
  },
  {
   "cell_type": "markdown",
   "id": "fa98ae3e",
   "metadata": {},
   "source": [
    "### Where A, B, C ...... are mutually exclusive events:\n",
    "P(A or B) = P(A) + P(B)\n",
    "\n",
    "P(A or B or C or .....) = P(A) + P(B) + P(C) + .......\n",
    "\n"
   ]
  },
  {
   "cell_type": "markdown",
   "id": "149435ed",
   "metadata": {},
   "source": [
    "### probability or rolling either a 1 or a 2 is calculated using the addition rule:\n",
    "    P(rolling a 1 or a 2) = P(rolling a 1) + P(rolling a 2)"
   ]
  },
  {
   "cell_type": "markdown",
   "id": "df4a2896",
   "metadata": {},
   "source": [
    "# Multiplication rule for independent event"
   ]
  },
  {
   "cell_type": "markdown",
   "id": "f592d786",
   "metadata": {},
   "source": [
    "### A and B are independent\n",
    "P(A and B) = P(A).P(B)"
   ]
  },
  {
   "cell_type": "code",
   "execution_count": null,
   "id": "fa5eed6f",
   "metadata": {},
   "outputs": [],
   "source": [
    "P(A_coin) = 1/2\n",
    "P(B_die) = 1/6\n",
    "P(A and B) = 1/2*1/6 = 1/12"
   ]
  },
  {
   "cell_type": "markdown",
   "id": "c30ab93a",
   "metadata": {},
   "source": [
    "# Multiplication rule for dependent events"
   ]
  },
  {
   "cell_type": "markdown",
   "id": "66cc90c2",
   "metadata": {},
   "source": [
    "### A and B are dependent, \n",
    "P(A and B) = P(A)P(B|A)"
   ]
  },
  {
   "cell_type": "markdown",
   "id": "3fa89326",
   "metadata": {},
   "source": [
    "### probability of drawing a king from a standard deck of cards and then drawing another king (with out replacement) is:\n",
    "    \n",
    "    P(king and then king) = P(king on the first draw) * P(King on the second draw given that a king was already drawn on the first draw)\n",
    "    \n",
    "    4/52 * 3/51 = 1/221"
   ]
  },
  {
   "cell_type": "markdown",
   "id": "d9d822c5",
   "metadata": {},
   "source": [
    "# Deck of cards"
   ]
  },
  {
   "cell_type": "code",
   "execution_count": null,
   "id": "1cb9a47d",
   "metadata": {},
   "outputs": [],
   "source": [
    "P(J or K or Q) = P(J) + P(K) + P(Q)\n",
    "               = 4/52 + 4/52 + 4/52"
   ]
  },
  {
   "cell_type": "code",
   "execution_count": null,
   "id": "33f06311",
   "metadata": {},
   "outputs": [],
   "source": [
    "P(C or S or H) = P(C) + P(S) + P(H)\n",
    "               = 13/52 + 13/52 + 13/52"
   ]
  },
  {
   "cell_type": "code",
   "execution_count": null,
   "id": "47a8a94b",
   "metadata": {},
   "outputs": [],
   "source": [
    "K = {hK, cK, sK, dK}\n",
    "Q = {hQ, cQ, sQ, dQ}\n",
    "\n",
    "n(K) = 4\n",
    "n(Q) = 4\n",
    "K intersection Q = 0\n",
    "\n",
    "D = {dA, d2, d3, d4, d5, d6, d7, d8, d9, d10, dJ, dK, dQ}\n",
    "n(D) =13\n",
    "\n",
    "K intersection D = {dK}\n",
    "Q intersection D = {dQ}\n",
    "\n",
    "n(K U Q U D) = n(K) + n(Q) + n(D)  ----> when events are mutually exclusive\n",
    "             = 4 + 4 + 13 + \n",
    "             = 21\n",
    "             = unique elements\n",
    "            = {hK, cK, sK, dK, hQ, cQ, sQ, dQ, dA, d2, d3, d4, d5, d6, d7, d8, d9, d10, dJ}\n",
    "            = 19\n",
    "            \n",
    "            = n(K) + n(Q) + n(D) - n(K intersection Q intersection D) ----> when events are not mutually exclusive\n",
    "            = 4 + 4 + 13 -2\n",
    "            = 19\n",
    "\n"
   ]
  },
  {
   "cell_type": "code",
   "execution_count": null,
   "id": "e379d011",
   "metadata": {},
   "outputs": [],
   "source": [
    "P(F | C) = P(C and F) / P(C)\n",
    "\n",
    "n = 1,47197\n",
    "\n",
    "P(C and F) = 63,187/1,47197\n",
    "\n",
    "P(C) = (70,894 + 63,187)/1,47197\n",
    "\n",
    "\n",
    "P(F | C) = 63,187/ 77212\n",
    "P(F | C) = 0.818"
   ]
  },
  {
   "cell_type": "code",
   "execution_count": 2,
   "id": "b44954ab",
   "metadata": {},
   "outputs": [
    {
     "data": {
      "text/plain": [
       "77212"
      ]
     },
     "execution_count": 2,
     "metadata": {},
     "output_type": "execute_result"
    }
   ],
   "source": [
    "70894 + 6318"
   ]
  },
  {
   "cell_type": "code",
   "execution_count": 3,
   "id": "085564ef",
   "metadata": {},
   "outputs": [
    {
     "data": {
      "text/plain": [
       "0.8183572501683676"
      ]
     },
     "execution_count": 3,
     "metadata": {},
     "output_type": "execute_result"
    }
   ],
   "source": [
    "63187/ 77212"
   ]
  },
  {
   "cell_type": "code",
   "execution_count": null,
   "id": "6d44fcea",
   "metadata": {},
   "outputs": [],
   "source": []
  },
  {
   "cell_type": "markdown",
   "id": "07ba3bcf",
   "metadata": {},
   "source": [
    "# Baye's theorem"
   ]
  },
  {
   "cell_type": "markdown",
   "id": "e53083d7",
   "metadata": {},
   "source": [
    "### you have a headace, you want to know the probability of having a brain tumor.\n",
    "\n",
    "prior belief ---> you might initially think that the probability is quite low, say 1 in 100000\n",
    "\n"
   ]
  },
  {
   "cell_type": "markdown",
   "id": "03b10049",
   "metadata": {},
   "source": [
    "### new evidence: you go to the doctor and get a scan, and the scan comes back abnormal.\n",
    "    \n",
    "    based on the new evidence, your likelihood of having a brain tumor has increased.\n",
    "    likelihood ratio is 50:1, \n",
    "        which means that the evidence is 50 times more likely to occur if you have a brain tumor than if you don't"
   ]
  },
  {
   "cell_type": "markdown",
   "id": "fbf6e205",
   "metadata": {},
   "source": [
    "### using Baye's theorem, we can updae our prior belief to get the posterior probability of having a brain tumor given the new evidence,\n",
    "\n",
    "Posterior probability = (prior probability * Likelihood) / Evidence\n",
    "                      = 0.000001 * 50 / 1\n",
    "                      = 0.0005"
   ]
  },
  {
   "cell_type": "markdown",
   "id": "0d64db5a",
   "metadata": {},
   "source": [
    "# Baye's theorem is a way to update our beliefs or knowledge about something based on new evidence or information"
   ]
  },
  {
   "cell_type": "markdown",
   "id": "41935d77",
   "metadata": {},
   "source": [
    "### Hypothesis = the probability that it will rain tomorrow\n",
    "prior probability = \n",
    "---->\n",
    "evidence = whether forecast, \n"
   ]
  },
  {
   "cell_type": "markdown",
   "id": "fb5a3a1a",
   "metadata": {},
   "source": [
    "# Baye's theorem allows you to combine your prior belief with the new evidence to obtain a revised or update probability"
   ]
  },
  {
   "cell_type": "code",
   "execution_count": 4,
   "id": "f93c884c",
   "metadata": {},
   "outputs": [
    {
     "data": {
      "text/plain": [
       "0.001"
      ]
     },
     "execution_count": 4,
     "metadata": {},
     "output_type": "execute_result"
    }
   ],
   "source": [
    "1/1000"
   ]
  },
  {
   "cell_type": "code",
   "execution_count": null,
   "id": "bf71698b",
   "metadata": {},
   "outputs": [],
   "source": []
  }
 ],
 "metadata": {
  "kernelspec": {
   "display_name": "Python 3 (ipykernel)",
   "language": "python",
   "name": "python3"
  },
  "language_info": {
   "codemirror_mode": {
    "name": "ipython",
    "version": 3
   },
   "file_extension": ".py",
   "mimetype": "text/x-python",
   "name": "python",
   "nbconvert_exporter": "python",
   "pygments_lexer": "ipython3",
   "version": "3.11.2"
  }
 },
 "nbformat": 4,
 "nbformat_minor": 5
}
