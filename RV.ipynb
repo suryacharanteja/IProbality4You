{
 "cells": [
  {
   "cell_type": "markdown",
   "id": "09c7fbbb",
   "metadata": {},
   "source": [
    "# Experiment"
   ]
  },
  {
   "cell_type": "markdown",
   "id": "d473c7ef",
   "metadata": {},
   "source": [
    "### Physics: \n",
    "    the effect of temperature on the expansion of a metal rod."
   ]
  },
  {
   "cell_type": "markdown",
   "id": "4b6f7d1f",
   "metadata": {},
   "source": [
    "### Biology:\n",
    "    the rate of cell growth is measured and compared to a control group that did not receive the drug."
   ]
  },
  {
   "cell_type": "markdown",
   "id": "80fb3735",
   "metadata": {},
   "source": [
    "### Psychology:\n",
    "    the effect of sleep deprivation on memory"
   ]
  },
  {
   "cell_type": "markdown",
   "id": "b2233f2c",
   "metadata": {},
   "source": [
    "### Sociology:\n",
    "    the effect of social media on self-esteem."
   ]
  },
  {
   "cell_type": "markdown",
   "id": "2a87f914",
   "metadata": {},
   "source": [
    "### main difference between experiment and random experiment:\n",
    "    in an experiment, the researcher manipulates the independent variables to observe their effect on the dependent variable, while\n",
    "    in random experiment, the outcome is determined by chance or probability."
   ]
  },
  {
   "cell_type": "markdown",
   "id": "b83f6543",
   "metadata": {},
   "source": [
    "# Random variables"
   ]
  },
  {
   "cell_type": "markdown",
   "id": "fbf8db5a",
   "metadata": {},
   "source": [
    "### 1.  Discrete Random variables:\n",
    "    can only take on a finite or countably infinite number of values.\n",
    "    examples:\n",
    "        Number of heads in multiple coin tosses\n",
    "        Number of children in a family\n",
    "        number of cars sold in a month\n",
    "        number of times a website is visited in a day"
   ]
  },
  {
   "cell_type": "markdown",
   "id": "6e0588a7",
   "metadata": {},
   "source": [
    "### 2. continuous random variables:\n",
    "    can take on any value within a certain range.\n",
    "    examples:\n",
    "        Height of individuals in a population\n",
    "        Time it takes to complete a task\n",
    "        Weight of products produced in a factory\n",
    "        Temperature of a room"
   ]
  },
  {
   "cell_type": "markdown",
   "id": "3f400769",
   "metadata": {},
   "source": [
    "### 3. Binomial random variable:\n",
    "    that represents the number of successes in a fixed number of independent trials\n",
    "    examples:\n",
    "        Number of defective products in a sample of products\n",
    "        Number of students who pass a test out of a fixed number of students who took it\n",
    "        Number of times a coin comes heads in  fixed number of tosses"
   ]
  },
  {
   "cell_type": "markdown",
   "id": "7ae18846",
   "metadata": {},
   "source": [
    "### 4.  Poisson Randonm variables:\n",
    "    this represents the number of events occuring in a fixed interval of time or space.\n",
    "    examples:\n",
    "        Number of car accidents in a day in a certain area\n",
    "        Number of customer entering a store in an hour\n",
    "        Number of calls received by a call center in a day"
   ]
  },
  {
   "cell_type": "markdown",
   "id": "7b6ea2c7",
   "metadata": {},
   "source": [
    "# Probability Mass function | Discrete distribution"
   ]
  },
  {
   "cell_type": "code",
   "execution_count": null,
   "id": "1dc1ab9c",
   "metadata": {},
   "outputs": [],
   "source": [
    "example: random variable X that represents the number of heads in two coin tosses. \n",
    "    X are 0, 1, 0r 2.\n",
    "    P(X = 0) = 1/4\n",
    "    P(X = 1) = 1/2\n",
    "    P(X = 2) = 1/4\n",
    "    \n",
    "    sum(P(X = x)) = P(X = 0) + P(X = 1) + P(X = 2)\n",
    "                  = 1/4 + 1/2 + 1/4\n",
    "                = 2/4 + 1/2\n",
    "                = 1/2 + 1/2\n",
    "                = 2/2\n",
    "                = 1"
   ]
  },
  {
   "cell_type": "markdown",
   "id": "fe69e329",
   "metadata": {},
   "source": [
    "# Joint Probability Distribution"
   ]
  },
  {
   "cell_type": "markdown",
   "id": "1641a204",
   "metadata": {},
   "source": [
    "### p(X, Y): Probability that X takes on a certain value of x, and Y takes on a certain value of y:\n",
    "    X = intensity of a pixel in an image\n",
    "    Y =  corresponding label of the object in the image.\n",
    "    \n"
   ]
  },
  {
   "cell_type": "markdown",
   "id": "601fa1c9",
   "metadata": {},
   "source": [
    "### model:\n",
    "    a pixel has a cetain intensity and corresponds to a certain object label"
   ]
  },
  {
   "cell_type": "markdown",
   "id": "1aaa5d32",
   "metadata": {},
   "source": [
    "### P(X=x, Y=y) = Pr(X=x, Y=y)"
   ]
  },
  {
   "cell_type": "markdown",
   "id": "df459382",
   "metadata": {},
   "source": [
    "### applications in CV:\n",
    "    1. image segmentation\n",
    "    2. object recognition\n",
    "    3. image classification"
   ]
  },
  {
   "cell_type": "markdown",
   "id": "cdc23187",
   "metadata": {},
   "source": [
    "# Marginal probability distribution"
   ]
  },
  {
   "cell_type": "markdown",
   "id": "120080b9",
   "metadata": {},
   "source": [
    "### Marginal probability distribution of X is the probability distribution of X regardless of the values of Y"
   ]
  },
  {
   "cell_type": "markdown",
   "id": "1c5aa7d9",
   "metadata": {},
   "source": [
    "### P(X=x) = summation y P(X=x, Y=y)"
   ]
  },
  {
   "cell_type": "markdown",
   "id": "a93d00d0",
   "metadata": {},
   "source": [
    "### NLP: \n",
    "    X = the words in a sentence\n",
    "    Y = sentiment labels\n",
    "    \n",
    "    marginal probability of X \n",
    "        P(X) = \n",
    "        \n",
    "        ++> the marginal probability of X gives us the probability of a particular word occuring in a sentence, regardless of the sentiment lable"
   ]
  },
  {
   "cell_type": "markdown",
   "id": "5221f697",
   "metadata": {},
   "source": [
    "### Conditional Probability distribution"
   ]
  },
  {
   "cell_type": "markdown",
   "id": "23ce4bf5",
   "metadata": {},
   "source": [
    "### CV: \n",
    "    X = Pixels intensities\n",
    "    Y = object labels\n",
    "    \n",
    "    conditional probability distribution of Y given X is the probability of Y fiven a particular values of X \n",
    "    \n",
    "    computed using Baye's rule\n",
    "    \n",
    "    P(Y=y | X=x) = P(X=x | Y=y) * P(Y=y) / P(X=x)\n",
    "    probability of a particular object label occuring given a particular pixel intensity"
   ]
  },
  {
   "cell_type": "markdown",
   "id": "c436bafe",
   "metadata": {},
   "source": [
    "### NLP:\n",
    "    X = Words in  a sentence\n",
    "    Y = sentiment labels\n",
    "    "
   ]
  },
  {
   "cell_type": "markdown",
   "id": "e8a218e3",
   "metadata": {},
   "source": [
    "# Sum rule"
   ]
  },
  {
   "cell_type": "markdown",
   "id": "2eb08beb",
   "metadata": {},
   "source": [
    "### P(X=x) = Sum P(X=x, Y=y)\n",
    "\n"
   ]
  },
  {
   "cell_type": "markdown",
   "id": "827b5990",
   "metadata": {},
   "source": [
    "### Example: Binary classification \n",
    "    X = binary RV --> whether an image contains a cat or not\n",
    "    Y = binary RV --> whether an image contains dog or not.\n",
    "    P(X=1) = P(X=1, Y=1) + P(X=1, Y=0)"
   ]
  },
  {
   "cell_type": "markdown",
   "id": "9c7a7270",
   "metadata": {},
   "source": [
    "# Product rule"
   ]
  },
  {
   "cell_type": "markdown",
   "id": "27564c1f",
   "metadata": {},
   "source": [
    "### P(X=x, Y=y) = P(X=x)*P(Y=y | X=x)"
   ]
  },
  {
   "cell_type": "markdown",
   "id": "750c836a",
   "metadata": {},
   "source": [
    "### Example: image classification\n",
    "    X = pixel intensities of an image\n",
    "    Y = object label"
   ]
  },
  {
   "cell_type": "markdown",
   "id": "0a7ee074",
   "metadata": {},
   "source": [
    "# Baye's rule"
   ]
  },
  {
   "cell_type": "markdown",
   "id": "0541354b",
   "metadata": {},
   "source": [
    "### example: image recognition\n",
    "    P(an image containing cat | pixel intensities) = probability of the pixel intensities given the image containing a cat / prior probability of an image containing a cat"
   ]
  },
  {
   "cell_type": "markdown",
   "id": "fff0e0c6",
   "metadata": {},
   "source": [
    "# Chain rule"
   ]
  },
  {
   "cell_type": "markdown",
   "id": "db0c3c27",
   "metadata": {},
   "source": [
    "### example: in object detection\n",
    "    P(pixel inteinsities | object location, object label) * P(object location | object label, object feature)"
   ]
  },
  {
   "cell_type": "markdown",
   "id": "284c653f",
   "metadata": {},
   "source": [
    "# Expectation"
   ]
  },
  {
   "cell_type": "markdown",
   "id": "98332895",
   "metadata": {},
   "source": [
    "### example: binary classification problem\n",
    "    X = probability of an image containing a cat,\n",
    "    p(x) = probability mass functio of X"
   ]
  },
  {
   "cell_type": "markdown",
   "id": "0a64af48",
   "metadata": {},
   "source": [
    "### compute the expectation of X as follows:\n",
    "    E[X] = 1*P(X=1) + 0*P(X=0)"
   ]
  },
  {
   "cell_type": "markdown",
   "id": "0ebc617f",
   "metadata": {},
   "source": [
    "### example2: language model that generates sentences, and \n",
    "    X = a RV representing the number of words in a generated sentence\n",
    "   P(X=x) = f(x) = probability density function\n"
   ]
  },
  {
   "cell_type": "markdown",
   "id": "14492c7c",
   "metadata": {},
   "source": [
    "### compute the expectation of X as follows:\n",
    "    E(X) = integral of (x*f(x))dx"
   ]
  },
  {
   "cell_type": "markdown",
   "id": "75235adb",
   "metadata": {},
   "source": [
    "# Variance , Standard deviation, Covariance"
   ]
  },
  {
   "cell_type": "markdown",
   "id": "02daaa75",
   "metadata": {},
   "source": [
    "### example: binary classification problem where\n",
    "    X = probability of an image containing a cat\n",
    "    Y = probability an image containing  a dog.\n",
    "    \n",
    "    we can compute the variance of X as follows:\n",
    "        Var(X) = E[X-mu^2]\n",
    "        mu = E(X) = expected value of X \n",
    "        \n",
    "    SD = sqrt(Var(X))\n",
    "    \n",
    "    Cov(X, Y) = E[X-E[X]]E[Y-E[Y]] = E[XY] - E[X]E[Y]\n",
    "    this gives us a measure of how the probabilitues of animage containing a cat and a dog vary together"
   ]
  },
  {
   "cell_type": "markdown",
   "id": "1eae533b",
   "metadata": {},
   "source": [
    "### example2: language model that generates sentences\n",
    "    X = number of words in a generated sentence\n",
    "    Y = sentiment score of the generated sentence\n",
    "    \n",
    "    we can compute the variance of X as follows:\n",
    "        Var(X) = E[X- E[X]^2]\n",
    "        this gives us a measure of how much the number of words in a generated sentence varies from its average value.\n",
    "        \n",
    "    we can compute SD\n",
    "        SD = sqrt(Var(X))\n",
    "        \n",
    "    We can also compute the covariance between X and Y\n",
    "        cov(X, Y) = E[(X-E[X]]E[(Y-E[Y]] = E[XY] - E[X]E[Y]\n",
    "        this gives us a measure of how the number of words in a generated sentence and its sentiment score vary together.\n",
    "        "
   ]
  },
  {
   "cell_type": "markdown",
   "id": "49d0dd68",
   "metadata": {},
   "source": [
    "# Transforming a RV"
   ]
  },
  {
   "cell_type": "markdown",
   "id": "64e9be85",
   "metadata": {},
   "source": [
    "### example1: \n",
    "    X = brightness values of an pixel in an image\n",
    "    sigmoid function.\n",
    "    Y = sigmoid function(X)\n",
    "    Y = new RV\n",
    "    Y = 1 /(1 + exp(-x))\n",
    "    \n",
    "    application: images processing tasks such as contrast enhancement, and thresholding"
   ]
  },
  {
   "cell_type": "markdown",
   "id": "74c58ddd",
   "metadata": {},
   "source": [
    "### example2:\n",
    "    X = lenght of the sentence in word.\n",
    "    Y = new RV\n",
    "    Y = log(X)\n",
    "    \n",
    "    application: text summarization and topic modeling"
   ]
  },
  {
   "cell_type": "code",
   "execution_count": null,
   "id": "0ae76611",
   "metadata": {},
   "outputs": [],
   "source": []
  }
 ],
 "metadata": {
  "kernelspec": {
   "display_name": "Python 3 (ipykernel)",
   "language": "python",
   "name": "python3"
  },
  "language_info": {
   "codemirror_mode": {
    "name": "ipython",
    "version": 3
   },
   "file_extension": ".py",
   "mimetype": "text/x-python",
   "name": "python",
   "nbconvert_exporter": "python",
   "pygments_lexer": "ipython3",
   "version": "3.11.2"
  }
 },
 "nbformat": 4,
 "nbformat_minor": 5
}
