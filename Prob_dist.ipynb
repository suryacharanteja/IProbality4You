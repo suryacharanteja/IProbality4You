{
 "cells": [
  {
   "cell_type": "markdown",
   "id": "6b359554",
   "metadata": {},
   "source": [
    "# Law of large numbers:number of trials or observations or sample size increases , the mean of the observed values will converge to the expecte value of the underlying distribution"
   ]
  },
  {
   "cell_type": "markdown",
   "id": "6f976e3f",
   "metadata": {},
   "source": [
    "### Coin flipping:\n",
    "    flip a coin many times \n",
    "    record number times it comes up head.\n",
    "    --> as we flip a coin more and more times, the propotion of heads to total flips will converge to the expected value of 0.5, \n",
    "    according to the law of large numbers"
   ]
  },
  {
   "cell_type": "markdown",
   "id": "739e8291",
   "metadata": {},
   "source": [
    "### Dice rolling:\n",
    "    rol a fair six-sided die many times and record the average of the numbers rolled.\n",
    "    as we roll the die more and more times. \n",
    "    \n",
    "    --> the propotion of heads to total flips will converge to the expected value of 0.5, according to the law of large numbers"
   ]
  },
  {
   "cell_type": "markdown",
   "id": "aa9509f3",
   "metadata": {},
   "source": [
    "### stock prices:\n",
    "    daily returns of a stock over along period of time\n",
    "    "
   ]
  },
  {
   "cell_type": "markdown",
   "id": "4efaacf6",
   "metadata": {},
   "source": [
    "### opinion polls:\n",
    "    conduct a poll of large number of people and record their opinions on a certain issue. \n",
    "    \n",
    "    --> as the sample size increases,, the proportion of people with a  certain opinion will converge to the propotion of the entire population  with that opnion"
   ]
  },
  {
   "cell_type": "code",
   "execution_count": null,
   "id": "cc23647c",
   "metadata": {},
   "outputs": [],
   "source": []
  }
 ],
 "metadata": {
  "kernelspec": {
   "display_name": "Python 3 (ipykernel)",
   "language": "python",
   "name": "python3"
  },
  "language_info": {
   "codemirror_mode": {
    "name": "ipython",
    "version": 3
   },
   "file_extension": ".py",
   "mimetype": "text/x-python",
   "name": "python",
   "nbconvert_exporter": "python",
   "pygments_lexer": "ipython3",
   "version": "3.11.2"
  }
 },
 "nbformat": 4,
 "nbformat_minor": 5
}
